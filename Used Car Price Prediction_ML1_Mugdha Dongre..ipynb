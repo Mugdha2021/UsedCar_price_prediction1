{
 "cells": [
  {
   "cell_type": "markdown",
   "metadata": {},
   "source": [
    "# USED CAR_PRICE PREDICTION  \n",
    "\n",
    "**Submitted by Mugdha Dongre\n",
    "(GCDAI Student, INSAID)\n",
    "(Batch: May 9,2021)**"
   ]
  },
  {
   "cell_type": "markdown",
   "metadata": {},
   "source": [
    "## Table of Content\n",
    "\n",
    "1. [Introduction](#section1)<br>\n",
    "2. [Problem Statement](#section2)<br>\n",
    "3. [Library Installments](#section3)<br>\n",
    "    - 3.1 [Installing Libraries](#section301)<br>\n",
    "    - 3.2 [Importing Libraries](#section302)<br>\n",
    "4. [Data Acquisition & Descriptions](#section4)<br>\n",
    "    - 4.1 [Data Description](#section401)<br>\n",
    "    - 4.2 [Data Information](#section402)<br>\n",
    "5. [Data Pre-processing](#section5)<br>\n",
    "    - 5.1 [Pre-profiling Report](#section501)<br>\n",
    "    - 5.2 [Data Cleaning](#section502)<br>\n",
    "    - 5.3 [Post-Profiling Report](#section503)<br>    \n",
    "6. [Exploratory Data Analysis](#section6)<br>\n",
    "    - 6.1 [Analysis of Features w.r.t.Target variable](#section601)<br>\n",
    "7. [Data Post-processing](#section7)<br>\n",
    "    - 7.1 [Handling Categorical columns](#section701)<br>\n",
    "    - 7.2 [Feature Extraction](#section702)<br>\n",
    "    - 7.3 [Linear Regression](#section703)<br>\n",
    "8. [Analysis of Test dataset](#section8)<br>\n",
    "    - 8.1 [Handling missing values to Test dataset](#section801)<br>\n",
    "    - 8.2 [Label Encoding for Categorical columns (Test dataset)](#section802)<br>\n",
    "    - 8.3 [Prediction of Used car price](#section803)<br>\n",
    "    - 8.4 [Preparing Submission file](#section804)<br>\n",
    "    - 8.5 [Saving price values to Excel sheet](#section805)<br>"
   ]
  },
  {
   "cell_type": "markdown",
   "metadata": {},
   "source": [
    "<a name = section1></a>\n",
    "## 1. Introduction\n",
    "\n",
    "**Company Introduction**\n",
    "\n",
    "- **SWIPECAR**, is an American company that **buys and sells second hand cars.**\n",
    "- **They initiated their business in the late 80s and have gained huge popularity over the years.**\n",
    "- **The company clients are local and foreign customers who seek to buy and sell second hand cars.**\n",
    "\n",
    "**Current Scenario**\n",
    "- Company has started **facing loss in business due to the technical advancements.**\n",
    "- There are **several competitors in the market who have been using enhanced techniques.**\n",
    "- The **company is pretty old and they have been using traditional measures to estimate old cars prices.**\n",
    "- These **traditional measures include weight analysis, condition of parts and build year.**\n",
    "- They are looking for a **more robust way to estimate the price of old cars.**\n"
   ]
  },
  {
   "cell_type": "markdown",
   "metadata": {},
   "source": [
    "<a name = section2></a>\n",
    "## 2. Problem Definition\n",
    "\n",
    "**The current process suffers from the following problems:**\n",
    "\n",
    "- They have been using manual traditional measures to estimate old cars prices.\n",
    "- These measures are time consuming and not accurate.\n",
    "- Company is looking for a robust way to estimate the prices of used cars.\n",
    "\n",
    "<p align=\"center\"><img src=\"https://visme.co/blog/wp-content/uploads/2020/06/animated-interactive-infographics-header-wide.gif\"></p>"
   ]
  },
  {
   "cell_type": "markdown",
   "metadata": {},
   "source": [
    "<a name = section3></a>\n",
    "## 3. Library Installments"
   ]
  },
  {
   "cell_type": "markdown",
   "metadata": {},
   "source": [
    "<a name = section301></a>\n",
    "### 3.1 Installing Libraries"
   ]
  },
  {
   "cell_type": "code",
   "execution_count": 1,
   "metadata": {},
   "outputs": [
    {
     "name": "stderr",
     "output_type": "stream",
     "text": [
      "ERROR: Invalid requirement: '#'\n",
      "ERROR: Invalid requirement: '#'\n"
     ]
    }
   ],
   "source": [
    "!pip install -q datascience                                         # Package that is required by pandas profiling\n",
    "!pip install -q pandas-profiling                                    # Library to generate basic statistics about data"
   ]
  },
  {
   "cell_type": "markdown",
   "metadata": {},
   "source": [
    "<a name = section302></a>\n",
    "### 3.2 Importing Libraries"
   ]
  },
  {
   "cell_type": "code",
   "execution_count": 2,
   "metadata": {},
   "outputs": [],
   "source": [
    "#-------------------------------------------------------------------------------------------------------------------------------\n",
    "import pandas as pd                                                 # Importing package pandas (For Panel Data Analysis)\n",
    "from pandas_profiling import ProfileReport                          # Import Pandas Profiling (To generate Univariate Analysis)\n",
    "#-------------------------------------------------------------------------------------------------------------------------------\n",
    "import warnings\n",
    "warnings.filterwarnings('ignore')\n",
    "import numpy as np                                                  # Importing package numpys (For Numerical Python)\n",
    "#-------------------------------------------------------------------------------------------------------------------------------\n",
    "import matplotlib\n",
    "import matplotlib.pyplot as plt                                     # Importing pyplot interface to use matplotlib\n",
    "import seaborn as sns                                             # Importing seaborn library for interactive visualization\n",
    "%matplotlib inline\n",
    "#-------------------------------------------------------------------------------------------------------------------------------\n",
    "import scipy as sp                                                  # Importing library for scientific calculations\n",
    "#-------------------------------------------------------------------------------------------------------------------------------"
   ]
  },
  {
   "cell_type": "markdown",
   "metadata": {},
   "source": [
    "<a name = section4></a>\n",
    "## 4. Data Acquisition & Description"
   ]
  },
  {
   "cell_type": "markdown",
   "metadata": {},
   "source": [
    "\n",
    "The dataset is divided into two parts:\n",
    "\n",
    "**Train Set:**\n",
    "\n",
    "| Records | Features | Target Variable |\n",
    " | :-- | :-- | :-- |\n",
    "| 181 | 27 |  Price |\n",
    "\n",
    "\n",
    "**Test Set:**\n",
    "\n",
    "| Records | Features | Predicted Variable |\n",
    "| :-- | :-- | :-- |\n",
    "| 20 | 26 | Price |\n",
    "\n",
    "\n",
    "**The model developmet for price prediction will be done in Jupyter Notebook.**\n",
    "\n",
    "\n",
    "|Id|Feature|Description|\n",
    "|:--|:--|:--|\n",
    "|01| ID |Feature uniquely identifying each record| \n",
    "|02| symboling | Degree to which the auto is riskier than its price indicates|  \n",
    "|03| normalized losses | Relative average loss payment per insured vehicle year| \n",
    "|04| make| Make of the car|   \n",
    "|05| fuel-type| Type of fuel consumed by the car|\n",
    "|06| Aspiration| Type of internal combustion engine used|\n",
    "|07| num-of-doors| Number of doors available in the car|\n",
    "|08| body-style| Body style of car|\n",
    "|09| drive-wheels | Drive wheel of car|\n",
    "|10| engine-location| Location of engine in car|\n",
    "|11| wheel-base| Distance between the centres of the front and rear wheels|\n",
    "|12| length| Length of the car|\n",
    "|13|post-code| Postal Code of the customer| \n",
    "|14| width | Width of the car.|  \n",
    "|15| height | Height of the car| \n",
    "|16| curb-weight| Total mass of a vehicle with standard equipment|   \n",
    "|17| engine-type| Type of engine used in the car|\n",
    "|18| num-of-cylinders| Number of cylinders used in the car|\n",
    "|19| engine-size| Size of the engine used in the car|\n",
    "|20| fuel-system| Type of fuel system used in the car|\n",
    "|21| bore | Diameter of each cylinder in the piston engine|\n",
    "|21| stroke| Full travel of the piston along the cylinder, in either direction|\n",
    "|22| compression-ratio| Volume of the cylinder and the combustion chamber when the piston is at the bottom, and the volume of the combustion chamber when the piston is at the top|\n",
    "|23| horsepower| The power an engine produces by a car|\n",
    "|24| peak-rpm | The max power produced by engine in terms of revolutions per minute|  \n",
    "|25| city-mpg | City mileage per gallon rating of car| \n",
    "|26| highway-mpg| Highway mileage per gallon rating of car|   \n",
    "|27| price| Price of the car |"
   ]
  },
  {
   "cell_type": "code",
   "execution_count": 3,
   "metadata": {},
   "outputs": [
    {
     "name": "stdout",
     "output_type": "stream",
     "text": [
      "Data Shape of Training Data:  (181, 27)\n"
     ]
    },
    {
     "data": {
      "text/html": [
       "<div>\n",
       "<style scoped>\n",
       "    .dataframe tbody tr th:only-of-type {\n",
       "        vertical-align: middle;\n",
       "    }\n",
       "\n",
       "    .dataframe tbody tr th {\n",
       "        vertical-align: top;\n",
       "    }\n",
       "\n",
       "    .dataframe thead th {\n",
       "        text-align: right;\n",
       "    }\n",
       "</style>\n",
       "<table border=\"1\" class=\"dataframe\">\n",
       "  <thead>\n",
       "    <tr style=\"text-align: right;\">\n",
       "      <th></th>\n",
       "      <th>ID</th>\n",
       "      <th>symboling</th>\n",
       "      <th>normalized-losses</th>\n",
       "      <th>make</th>\n",
       "      <th>fuel-type</th>\n",
       "      <th>aspiration</th>\n",
       "      <th>num-of-doors</th>\n",
       "      <th>body-style</th>\n",
       "      <th>drive-wheels</th>\n",
       "      <th>engine-location</th>\n",
       "      <th>...</th>\n",
       "      <th>engine-size</th>\n",
       "      <th>fuel-system</th>\n",
       "      <th>bore</th>\n",
       "      <th>stroke</th>\n",
       "      <th>compression-ratio</th>\n",
       "      <th>horsepower</th>\n",
       "      <th>peak-rpm</th>\n",
       "      <th>city-mpg</th>\n",
       "      <th>highway-mpg</th>\n",
       "      <th>price</th>\n",
       "    </tr>\n",
       "  </thead>\n",
       "  <tbody>\n",
       "    <tr>\n",
       "      <th>0</th>\n",
       "      <td>1</td>\n",
       "      <td>-1</td>\n",
       "      <td>65.0</td>\n",
       "      <td>toyota</td>\n",
       "      <td>gas</td>\n",
       "      <td>std</td>\n",
       "      <td>four</td>\n",
       "      <td>hatchback</td>\n",
       "      <td>fwd</td>\n",
       "      <td>front</td>\n",
       "      <td>...</td>\n",
       "      <td>122</td>\n",
       "      <td>mpfi</td>\n",
       "      <td>3.31</td>\n",
       "      <td>3.54</td>\n",
       "      <td>8.7</td>\n",
       "      <td>92.0</td>\n",
       "      <td>4200.0</td>\n",
       "      <td>27</td>\n",
       "      <td>32</td>\n",
       "      <td>11248</td>\n",
       "    </tr>\n",
       "    <tr>\n",
       "      <th>1</th>\n",
       "      <td>2</td>\n",
       "      <td>0</td>\n",
       "      <td>188.0</td>\n",
       "      <td>bmw</td>\n",
       "      <td>gas</td>\n",
       "      <td>std</td>\n",
       "      <td>two</td>\n",
       "      <td>sedan</td>\n",
       "      <td>rwd</td>\n",
       "      <td>front</td>\n",
       "      <td>...</td>\n",
       "      <td>164</td>\n",
       "      <td>mpfi</td>\n",
       "      <td>3.31</td>\n",
       "      <td>3.19</td>\n",
       "      <td>9.0</td>\n",
       "      <td>121.0</td>\n",
       "      <td>4250.0</td>\n",
       "      <td>21</td>\n",
       "      <td>28</td>\n",
       "      <td>20970</td>\n",
       "    </tr>\n",
       "    <tr>\n",
       "      <th>2</th>\n",
       "      <td>3</td>\n",
       "      <td>0</td>\n",
       "      <td>NaN</td>\n",
       "      <td>renault</td>\n",
       "      <td>gas</td>\n",
       "      <td>std</td>\n",
       "      <td>four</td>\n",
       "      <td>wagon</td>\n",
       "      <td>fwd</td>\n",
       "      <td>front</td>\n",
       "      <td>...</td>\n",
       "      <td>132</td>\n",
       "      <td>mpfi</td>\n",
       "      <td>3.46</td>\n",
       "      <td>3.90</td>\n",
       "      <td>8.7</td>\n",
       "      <td>NaN</td>\n",
       "      <td>NaN</td>\n",
       "      <td>23</td>\n",
       "      <td>31</td>\n",
       "      <td>9295</td>\n",
       "    </tr>\n",
       "    <tr>\n",
       "      <th>3</th>\n",
       "      <td>4</td>\n",
       "      <td>0</td>\n",
       "      <td>161.0</td>\n",
       "      <td>peugot</td>\n",
       "      <td>diesel</td>\n",
       "      <td>turbo</td>\n",
       "      <td>four</td>\n",
       "      <td>sedan</td>\n",
       "      <td>rwd</td>\n",
       "      <td>front</td>\n",
       "      <td>...</td>\n",
       "      <td>152</td>\n",
       "      <td>idi</td>\n",
       "      <td>3.70</td>\n",
       "      <td>3.52</td>\n",
       "      <td>21.0</td>\n",
       "      <td>95.0</td>\n",
       "      <td>4150.0</td>\n",
       "      <td>28</td>\n",
       "      <td>33</td>\n",
       "      <td>13200</td>\n",
       "    </tr>\n",
       "    <tr>\n",
       "      <th>4</th>\n",
       "      <td>5</td>\n",
       "      <td>-2</td>\n",
       "      <td>103.0</td>\n",
       "      <td>volvo</td>\n",
       "      <td>gas</td>\n",
       "      <td>std</td>\n",
       "      <td>four</td>\n",
       "      <td>sedan</td>\n",
       "      <td>rwd</td>\n",
       "      <td>front</td>\n",
       "      <td>...</td>\n",
       "      <td>141</td>\n",
       "      <td>mpfi</td>\n",
       "      <td>3.78</td>\n",
       "      <td>3.15</td>\n",
       "      <td>9.5</td>\n",
       "      <td>114.0</td>\n",
       "      <td>5400.0</td>\n",
       "      <td>24</td>\n",
       "      <td>28</td>\n",
       "      <td>15985</td>\n",
       "    </tr>\n",
       "  </tbody>\n",
       "</table>\n",
       "<p>5 rows × 27 columns</p>\n",
       "</div>"
      ],
      "text/plain": [
       "   ID  symboling  normalized-losses     make fuel-type aspiration  \\\n",
       "0   1         -1               65.0   toyota       gas        std   \n",
       "1   2          0              188.0      bmw       gas        std   \n",
       "2   3          0                NaN  renault       gas        std   \n",
       "3   4          0              161.0   peugot    diesel      turbo   \n",
       "4   5         -2              103.0    volvo       gas        std   \n",
       "\n",
       "  num-of-doors body-style drive-wheels engine-location  ...  engine-size  \\\n",
       "0         four  hatchback          fwd           front  ...          122   \n",
       "1          two      sedan          rwd           front  ...          164   \n",
       "2         four      wagon          fwd           front  ...          132   \n",
       "3         four      sedan          rwd           front  ...          152   \n",
       "4         four      sedan          rwd           front  ...          141   \n",
       "\n",
       "   fuel-system  bore  stroke  compression-ratio horsepower peak-rpm  city-mpg  \\\n",
       "0         mpfi  3.31    3.54                8.7       92.0   4200.0        27   \n",
       "1         mpfi  3.31    3.19                9.0      121.0   4250.0        21   \n",
       "2         mpfi  3.46    3.90                8.7        NaN      NaN        23   \n",
       "3          idi  3.70    3.52               21.0       95.0   4150.0        28   \n",
       "4         mpfi  3.78    3.15                9.5      114.0   5400.0        24   \n",
       "\n",
       "  highway-mpg  price  \n",
       "0          32  11248  \n",
       "1          28  20970  \n",
       "2          31   9295  \n",
       "3          33  13200  \n",
       "4          28  15985  \n",
       "\n",
       "[5 rows x 27 columns]"
      ]
     },
     "execution_count": 3,
     "metadata": {},
     "output_type": "execute_result"
    }
   ],
   "source": [
    "# Loading the Train dataset #\n",
    "missing_value = ['n.a','?','na','NA']                    # Data file contains values with '?' sign\n",
    "data_trn = pd.read_csv(r'E:\\INSAID Projects\\used car prediction_ML1\\TrainData.csv', na_values = missing_value)\n",
    "print('Data Shape of Training Data: ', data_trn.shape)\n",
    "data_trn.head()"
   ]
  },
  {
   "cell_type": "markdown",
   "metadata": {},
   "source": [
    "<a name = section401></a>\n",
    "### 4.1 Data Description"
   ]
  },
  {
   "cell_type": "code",
   "execution_count": 4,
   "metadata": {},
   "outputs": [
    {
     "data": {
      "text/html": [
       "<div>\n",
       "<style scoped>\n",
       "    .dataframe tbody tr th:only-of-type {\n",
       "        vertical-align: middle;\n",
       "    }\n",
       "\n",
       "    .dataframe tbody tr th {\n",
       "        vertical-align: top;\n",
       "    }\n",
       "\n",
       "    .dataframe thead th {\n",
       "        text-align: right;\n",
       "    }\n",
       "</style>\n",
       "<table border=\"1\" class=\"dataframe\">\n",
       "  <thead>\n",
       "    <tr style=\"text-align: right;\">\n",
       "      <th></th>\n",
       "      <th>ID</th>\n",
       "      <th>symboling</th>\n",
       "      <th>normalized-losses</th>\n",
       "      <th>wheel-base</th>\n",
       "      <th>length</th>\n",
       "      <th>width</th>\n",
       "      <th>height</th>\n",
       "      <th>curb-weight</th>\n",
       "      <th>engine-size</th>\n",
       "      <th>bore</th>\n",
       "      <th>stroke</th>\n",
       "      <th>compression-ratio</th>\n",
       "      <th>horsepower</th>\n",
       "      <th>peak-rpm</th>\n",
       "      <th>city-mpg</th>\n",
       "      <th>highway-mpg</th>\n",
       "      <th>price</th>\n",
       "    </tr>\n",
       "  </thead>\n",
       "  <tbody>\n",
       "    <tr>\n",
       "      <th>count</th>\n",
       "      <td>181.000000</td>\n",
       "      <td>181.000000</td>\n",
       "      <td>147.000000</td>\n",
       "      <td>181.000000</td>\n",
       "      <td>181.000000</td>\n",
       "      <td>181.000000</td>\n",
       "      <td>181.000000</td>\n",
       "      <td>181.000000</td>\n",
       "      <td>181.000000</td>\n",
       "      <td>177.000000</td>\n",
       "      <td>177.000000</td>\n",
       "      <td>181.000000</td>\n",
       "      <td>179.000000</td>\n",
       "      <td>179.000000</td>\n",
       "      <td>181.000000</td>\n",
       "      <td>181.000000</td>\n",
       "      <td>181.000000</td>\n",
       "    </tr>\n",
       "    <tr>\n",
       "      <th>mean</th>\n",
       "      <td>91.000000</td>\n",
       "      <td>0.850829</td>\n",
       "      <td>120.863946</td>\n",
       "      <td>98.729282</td>\n",
       "      <td>174.174033</td>\n",
       "      <td>65.943646</td>\n",
       "      <td>53.709945</td>\n",
       "      <td>2564.165746</td>\n",
       "      <td>127.900552</td>\n",
       "      <td>3.338983</td>\n",
       "      <td>3.274463</td>\n",
       "      <td>10.154254</td>\n",
       "      <td>104.167598</td>\n",
       "      <td>5106.703911</td>\n",
       "      <td>25.132597</td>\n",
       "      <td>30.646409</td>\n",
       "      <td>13271.314917</td>\n",
       "    </tr>\n",
       "    <tr>\n",
       "      <th>std</th>\n",
       "      <td>52.394338</td>\n",
       "      <td>1.267045</td>\n",
       "      <td>35.086515</td>\n",
       "      <td>6.116197</td>\n",
       "      <td>12.336569</td>\n",
       "      <td>2.146114</td>\n",
       "      <td>2.497735</td>\n",
       "      <td>523.489016</td>\n",
       "      <td>42.578438</td>\n",
       "      <td>0.265255</td>\n",
       "      <td>0.309848</td>\n",
       "      <td>3.982306</td>\n",
       "      <td>37.967385</td>\n",
       "      <td>473.256441</td>\n",
       "      <td>6.418211</td>\n",
       "      <td>6.888545</td>\n",
       "      <td>8106.479635</td>\n",
       "    </tr>\n",
       "    <tr>\n",
       "      <th>min</th>\n",
       "      <td>1.000000</td>\n",
       "      <td>-2.000000</td>\n",
       "      <td>65.000000</td>\n",
       "      <td>86.600000</td>\n",
       "      <td>141.100000</td>\n",
       "      <td>60.300000</td>\n",
       "      <td>47.800000</td>\n",
       "      <td>1488.000000</td>\n",
       "      <td>61.000000</td>\n",
       "      <td>2.680000</td>\n",
       "      <td>2.190000</td>\n",
       "      <td>7.000000</td>\n",
       "      <td>48.000000</td>\n",
       "      <td>4150.000000</td>\n",
       "      <td>13.000000</td>\n",
       "      <td>16.000000</td>\n",
       "      <td>5118.000000</td>\n",
       "    </tr>\n",
       "    <tr>\n",
       "      <th>25%</th>\n",
       "      <td>46.000000</td>\n",
       "      <td>0.000000</td>\n",
       "      <td>94.000000</td>\n",
       "      <td>94.500000</td>\n",
       "      <td>166.800000</td>\n",
       "      <td>64.200000</td>\n",
       "      <td>51.600000</td>\n",
       "      <td>2190.000000</td>\n",
       "      <td>98.000000</td>\n",
       "      <td>3.150000</td>\n",
       "      <td>3.110000</td>\n",
       "      <td>8.600000</td>\n",
       "      <td>71.000000</td>\n",
       "      <td>4800.000000</td>\n",
       "      <td>19.000000</td>\n",
       "      <td>25.000000</td>\n",
       "      <td>7775.000000</td>\n",
       "    </tr>\n",
       "    <tr>\n",
       "      <th>50%</th>\n",
       "      <td>91.000000</td>\n",
       "      <td>1.000000</td>\n",
       "      <td>115.000000</td>\n",
       "      <td>96.900000</td>\n",
       "      <td>173.200000</td>\n",
       "      <td>65.500000</td>\n",
       "      <td>54.100000</td>\n",
       "      <td>2420.000000</td>\n",
       "      <td>120.000000</td>\n",
       "      <td>3.330000</td>\n",
       "      <td>3.350000</td>\n",
       "      <td>9.000000</td>\n",
       "      <td>95.000000</td>\n",
       "      <td>5100.000000</td>\n",
       "      <td>24.000000</td>\n",
       "      <td>30.000000</td>\n",
       "      <td>10295.000000</td>\n",
       "    </tr>\n",
       "    <tr>\n",
       "      <th>75%</th>\n",
       "      <td>136.000000</td>\n",
       "      <td>2.000000</td>\n",
       "      <td>148.000000</td>\n",
       "      <td>102.400000</td>\n",
       "      <td>183.100000</td>\n",
       "      <td>66.600000</td>\n",
       "      <td>55.500000</td>\n",
       "      <td>2935.000000</td>\n",
       "      <td>146.000000</td>\n",
       "      <td>3.590000</td>\n",
       "      <td>3.460000</td>\n",
       "      <td>9.400000</td>\n",
       "      <td>116.000000</td>\n",
       "      <td>5500.000000</td>\n",
       "      <td>30.000000</td>\n",
       "      <td>34.000000</td>\n",
       "      <td>16500.000000</td>\n",
       "    </tr>\n",
       "    <tr>\n",
       "      <th>max</th>\n",
       "      <td>181.000000</td>\n",
       "      <td>3.000000</td>\n",
       "      <td>256.000000</td>\n",
       "      <td>120.900000</td>\n",
       "      <td>208.100000</td>\n",
       "      <td>72.000000</td>\n",
       "      <td>59.800000</td>\n",
       "      <td>4066.000000</td>\n",
       "      <td>326.000000</td>\n",
       "      <td>3.940000</td>\n",
       "      <td>4.170000</td>\n",
       "      <td>23.000000</td>\n",
       "      <td>262.000000</td>\n",
       "      <td>6600.000000</td>\n",
       "      <td>49.000000</td>\n",
       "      <td>54.000000</td>\n",
       "      <td>45400.000000</td>\n",
       "    </tr>\n",
       "  </tbody>\n",
       "</table>\n",
       "</div>"
      ],
      "text/plain": [
       "               ID   symboling  normalized-losses  wheel-base      length  \\\n",
       "count  181.000000  181.000000         147.000000  181.000000  181.000000   \n",
       "mean    91.000000    0.850829         120.863946   98.729282  174.174033   \n",
       "std     52.394338    1.267045          35.086515    6.116197   12.336569   \n",
       "min      1.000000   -2.000000          65.000000   86.600000  141.100000   \n",
       "25%     46.000000    0.000000          94.000000   94.500000  166.800000   \n",
       "50%     91.000000    1.000000         115.000000   96.900000  173.200000   \n",
       "75%    136.000000    2.000000         148.000000  102.400000  183.100000   \n",
       "max    181.000000    3.000000         256.000000  120.900000  208.100000   \n",
       "\n",
       "            width      height  curb-weight  engine-size        bore  \\\n",
       "count  181.000000  181.000000   181.000000   181.000000  177.000000   \n",
       "mean    65.943646   53.709945  2564.165746   127.900552    3.338983   \n",
       "std      2.146114    2.497735   523.489016    42.578438    0.265255   \n",
       "min     60.300000   47.800000  1488.000000    61.000000    2.680000   \n",
       "25%     64.200000   51.600000  2190.000000    98.000000    3.150000   \n",
       "50%     65.500000   54.100000  2420.000000   120.000000    3.330000   \n",
       "75%     66.600000   55.500000  2935.000000   146.000000    3.590000   \n",
       "max     72.000000   59.800000  4066.000000   326.000000    3.940000   \n",
       "\n",
       "           stroke  compression-ratio  horsepower     peak-rpm    city-mpg  \\\n",
       "count  177.000000         181.000000  179.000000   179.000000  181.000000   \n",
       "mean     3.274463          10.154254  104.167598  5106.703911   25.132597   \n",
       "std      0.309848           3.982306   37.967385   473.256441    6.418211   \n",
       "min      2.190000           7.000000   48.000000  4150.000000   13.000000   \n",
       "25%      3.110000           8.600000   71.000000  4800.000000   19.000000   \n",
       "50%      3.350000           9.000000   95.000000  5100.000000   24.000000   \n",
       "75%      3.460000           9.400000  116.000000  5500.000000   30.000000   \n",
       "max      4.170000          23.000000  262.000000  6600.000000   49.000000   \n",
       "\n",
       "       highway-mpg         price  \n",
       "count   181.000000    181.000000  \n",
       "mean     30.646409  13271.314917  \n",
       "std       6.888545   8106.479635  \n",
       "min      16.000000   5118.000000  \n",
       "25%      25.000000   7775.000000  \n",
       "50%      30.000000  10295.000000  \n",
       "75%      34.000000  16500.000000  \n",
       "max      54.000000  45400.000000  "
      ]
     },
     "execution_count": 4,
     "metadata": {},
     "output_type": "execute_result"
    }
   ],
   "source": [
    "data_trn.describe()"
   ]
  },
  {
   "cell_type": "markdown",
   "metadata": {},
   "source": [
    "<a name = section402></a>\n",
    "### 4.2 Data Information"
   ]
  },
  {
   "cell_type": "code",
   "execution_count": 5,
   "metadata": {},
   "outputs": [
    {
     "name": "stdout",
     "output_type": "stream",
     "text": [
      "<class 'pandas.core.frame.DataFrame'>\n",
      "RangeIndex: 181 entries, 0 to 180\n",
      "Data columns (total 27 columns):\n",
      " #   Column             Non-Null Count  Dtype  \n",
      "---  ------             --------------  -----  \n",
      " 0   ID                 181 non-null    int64  \n",
      " 1   symboling          181 non-null    int64  \n",
      " 2   normalized-losses  147 non-null    float64\n",
      " 3   make               181 non-null    object \n",
      " 4   fuel-type          181 non-null    object \n",
      " 5   aspiration         181 non-null    object \n",
      " 6   num-of-doors       179 non-null    object \n",
      " 7   body-style         181 non-null    object \n",
      " 8   drive-wheels       181 non-null    object \n",
      " 9   engine-location    181 non-null    object \n",
      " 10  wheel-base         181 non-null    float64\n",
      " 11  length             181 non-null    float64\n",
      " 12  width              181 non-null    float64\n",
      " 13  height             181 non-null    float64\n",
      " 14  curb-weight        181 non-null    int64  \n",
      " 15  engine-type        181 non-null    object \n",
      " 16  num-of-cylinders   181 non-null    object \n",
      " 17  engine-size        181 non-null    int64  \n",
      " 18  fuel-system        181 non-null    object \n",
      " 19  bore               177 non-null    float64\n",
      " 20  stroke             177 non-null    float64\n",
      " 21  compression-ratio  181 non-null    float64\n",
      " 22  horsepower         179 non-null    float64\n",
      " 23  peak-rpm           179 non-null    float64\n",
      " 24  city-mpg           181 non-null    int64  \n",
      " 25  highway-mpg        181 non-null    int64  \n",
      " 26  price              181 non-null    int64  \n",
      "dtypes: float64(10), int64(7), object(10)\n",
      "memory usage: 38.3+ KB\n"
     ]
    }
   ],
   "source": [
    "data_trn.info()"
   ]
  },
  {
   "cell_type": "markdown",
   "metadata": {},
   "source": [
    "## Observations :\n",
    " - Data set has **missing values** in columns **'normalized losses','num-of-doors','bore','stroke','horsepower' and 'peak-ram'.** \n",
    " - Data Preprocessing report will give clrar idea about the dataset.\n",
    " - Cleaning of data is done with **.fillna() with mode and median values.**"
   ]
  },
  {
   "cell_type": "markdown",
   "metadata": {},
   "source": [
    "<a name = section5></a>\n",
    "## 5. Data Pre-processing"
   ]
  },
  {
   "cell_type": "code",
   "execution_count": 6,
   "metadata": {},
   "outputs": [
    {
     "data": {
      "text/plain": [
       "ID                    0\n",
       "symboling             0\n",
       "normalized-losses    34\n",
       "make                  0\n",
       "fuel-type             0\n",
       "aspiration            0\n",
       "num-of-doors          2\n",
       "body-style            0\n",
       "drive-wheels          0\n",
       "engine-location       0\n",
       "wheel-base            0\n",
       "length                0\n",
       "width                 0\n",
       "height                0\n",
       "curb-weight           0\n",
       "engine-type           0\n",
       "num-of-cylinders      0\n",
       "engine-size           0\n",
       "fuel-system           0\n",
       "bore                  4\n",
       "stroke                4\n",
       "compression-ratio     0\n",
       "horsepower            2\n",
       "peak-rpm              2\n",
       "city-mpg              0\n",
       "highway-mpg           0\n",
       "price                 0\n",
       "dtype: int64"
      ]
     },
     "execution_count": 6,
     "metadata": {},
     "output_type": "execute_result"
    }
   ],
   "source": [
    "data_trn.isnull().sum()"
   ]
  },
  {
   "cell_type": "markdown",
   "metadata": {},
   "source": [
    "<a name = section501></a>\n",
    "### 5.1 Pre-profiling Report"
   ]
  },
  {
   "cell_type": "code",
   "execution_count": 7,
   "metadata": {},
   "outputs": [
    {
     "data": {
      "application/vnd.jupyter.widget-view+json": {
       "model_id": "fc3c472ebf804c42ad0e93af7623bcba",
       "version_major": 2,
       "version_minor": 0
      },
      "text/plain": [
       "HBox(children=(HTML(value='Summarize dataset'), FloatProgress(value=0.0, max=35.0), HTML(value='')))"
      ]
     },
     "metadata": {},
     "output_type": "display_data"
    },
    {
     "name": "stdout",
     "output_type": "stream",
     "text": [
      "\n"
     ]
    },
    {
     "data": {
      "application/vnd.jupyter.widget-view+json": {
       "model_id": "6df5333ad3ad4409b044f902f07b78ce",
       "version_major": 2,
       "version_minor": 0
      },
      "text/plain": [
       "HBox(children=(HTML(value='Generate report structure'), FloatProgress(value=0.0, max=1.0), HTML(value='')))"
      ]
     },
     "metadata": {},
     "output_type": "display_data"
    },
    {
     "name": "stdout",
     "output_type": "stream",
     "text": [
      "\n"
     ]
    },
    {
     "data": {
      "application/vnd.jupyter.widget-view+json": {
       "model_id": "eefca8496e764376855887b4497c99d7",
       "version_major": 2,
       "version_minor": 0
      },
      "text/plain": [
       "HBox(children=(HTML(value='Render HTML'), FloatProgress(value=0.0, max=1.0), HTML(value='')))"
      ]
     },
     "metadata": {},
     "output_type": "display_data"
    },
    {
     "name": "stdout",
     "output_type": "stream",
     "text": [
      "\n"
     ]
    },
    {
     "data": {
      "application/vnd.jupyter.widget-view+json": {
       "model_id": "893b110859814e6aa0b773b5d6e0d6f8",
       "version_major": 2,
       "version_minor": 0
      },
      "text/plain": [
       "HBox(children=(HTML(value='Export report to file'), FloatProgress(value=0.0, max=1.0), HTML(value='')))"
      ]
     },
     "metadata": {},
     "output_type": "display_data"
    },
    {
     "name": "stdout",
     "output_type": "stream",
     "text": [
      "\n",
      "Pre-Profiling Accomplished!\n"
     ]
    }
   ],
   "source": [
    "profile = ProfileReport(df = data_trn, minimal = True)\n",
    "profile.to_file(output_file = 'price_prediction_PreProfilingReport.html')\n",
    "print('Pre-Profiling Accomplished!')"
   ]
  },
  {
   "cell_type": "markdown",
   "metadata": {},
   "source": [
    "<a name = section502></a>\n",
    "### 5.2 Data Cleaning"
   ]
  },
  {
   "cell_type": "code",
   "execution_count": 8,
   "metadata": {},
   "outputs": [
    {
     "data": {
      "text/plain": [
       "115.0"
      ]
     },
     "execution_count": 8,
     "metadata": {},
     "output_type": "execute_result"
    }
   ],
   "source": [
    "data_trn['normalized-losses'].median()"
   ]
  },
  {
   "cell_type": "code",
   "execution_count": 9,
   "metadata": {
    "scrolled": true
   },
   "outputs": [
    {
     "data": {
      "text/plain": [
       "0    four\n",
       "dtype: object"
      ]
     },
     "execution_count": 9,
     "metadata": {},
     "output_type": "execute_result"
    }
   ],
   "source": [
    "data_trn['num-of-doors'].mode()"
   ]
  },
  {
   "cell_type": "code",
   "execution_count": 10,
   "metadata": {},
   "outputs": [
    {
     "data": {
      "text/plain": [
       "3.33"
      ]
     },
     "execution_count": 10,
     "metadata": {},
     "output_type": "execute_result"
    }
   ],
   "source": [
    "data_trn['bore'].median()"
   ]
  },
  {
   "cell_type": "code",
   "execution_count": 11,
   "metadata": {},
   "outputs": [
    {
     "data": {
      "text/plain": [
       "3.35"
      ]
     },
     "execution_count": 11,
     "metadata": {},
     "output_type": "execute_result"
    }
   ],
   "source": [
    "data_trn['stroke'].median()"
   ]
  },
  {
   "cell_type": "code",
   "execution_count": 12,
   "metadata": {},
   "outputs": [
    {
     "data": {
      "text/plain": [
       "95.0"
      ]
     },
     "execution_count": 12,
     "metadata": {},
     "output_type": "execute_result"
    }
   ],
   "source": [
    "data_trn['horsepower'].median()"
   ]
  },
  {
   "cell_type": "code",
   "execution_count": 13,
   "metadata": {},
   "outputs": [
    {
     "data": {
      "text/plain": [
       "5100.0"
      ]
     },
     "execution_count": 13,
     "metadata": {},
     "output_type": "execute_result"
    }
   ],
   "source": [
    "data_trn['peak-rpm'].median()"
   ]
  },
  {
   "cell_type": "code",
   "execution_count": 14,
   "metadata": {},
   "outputs": [],
   "source": [
    "data_trn['normalized-losses'].fillna(value = 115.0, inplace = True)\n",
    "data_trn['bore'].fillna(value = 3.33, inplace = True)\n",
    "data_trn['stroke'].fillna(value = 3.35, inplace = True)\n",
    "data_trn['horsepower'].fillna(value = 95.0, inplace = True)\n",
    "data_trn['peak-rpm'].fillna(value = 5100.0, inplace = True)\n",
    "data_trn['num-of-doors'].fillna(value = 'four', inplace = True)"
   ]
  },
  {
   "cell_type": "code",
   "execution_count": 15,
   "metadata": {},
   "outputs": [
    {
     "data": {
      "text/plain": [
       "ID                   0\n",
       "symboling            0\n",
       "normalized-losses    0\n",
       "make                 0\n",
       "fuel-type            0\n",
       "aspiration           0\n",
       "num-of-doors         0\n",
       "body-style           0\n",
       "drive-wheels         0\n",
       "engine-location      0\n",
       "wheel-base           0\n",
       "length               0\n",
       "width                0\n",
       "height               0\n",
       "curb-weight          0\n",
       "engine-type          0\n",
       "num-of-cylinders     0\n",
       "engine-size          0\n",
       "fuel-system          0\n",
       "bore                 0\n",
       "stroke               0\n",
       "compression-ratio    0\n",
       "horsepower           0\n",
       "peak-rpm             0\n",
       "city-mpg             0\n",
       "highway-mpg          0\n",
       "price                0\n",
       "dtype: int64"
      ]
     },
     "execution_count": 15,
     "metadata": {},
     "output_type": "execute_result"
    }
   ],
   "source": [
    "data_trn.isnull().sum()"
   ]
  },
  {
   "cell_type": "code",
   "execution_count": 16,
   "metadata": {},
   "outputs": [
    {
     "name": "stdout",
     "output_type": "stream",
     "text": [
      "Contains Duplicate Rows? False\n"
     ]
    }
   ],
   "source": [
    "# Handling Duplicate data\n",
    "print('Contains Duplicate Rows?',data_trn.duplicated().any())"
   ]
  },
  {
   "cell_type": "markdown",
   "metadata": {},
   "source": [
    "## Observations \n",
    "\n",
    "- **No missing value** in the dataset.\n",
    "- **No Duplicated value** in the dataset."
   ]
  },
  {
   "cell_type": "markdown",
   "metadata": {},
   "source": [
    "<a name = section503></a>\n",
    "### 5.3 Post-profiling Report"
   ]
  },
  {
   "cell_type": "code",
   "execution_count": 17,
   "metadata": {},
   "outputs": [
    {
     "data": {
      "application/vnd.jupyter.widget-view+json": {
       "model_id": "ecba893e2f80427e84673853fe81614f",
       "version_major": 2,
       "version_minor": 0
      },
      "text/plain": [
       "HBox(children=(HTML(value='Summarize dataset'), FloatProgress(value=0.0, max=40.0), HTML(value='')))"
      ]
     },
     "metadata": {},
     "output_type": "display_data"
    },
    {
     "name": "stdout",
     "output_type": "stream",
     "text": [
      "\n"
     ]
    },
    {
     "data": {
      "application/vnd.jupyter.widget-view+json": {
       "model_id": "af78c6fbb6a64d0f8ef63c3ef85bc1a6",
       "version_major": 2,
       "version_minor": 0
      },
      "text/plain": [
       "HBox(children=(HTML(value='Generate report structure'), FloatProgress(value=0.0, max=1.0), HTML(value='')))"
      ]
     },
     "metadata": {},
     "output_type": "display_data"
    },
    {
     "name": "stdout",
     "output_type": "stream",
     "text": [
      "\n"
     ]
    },
    {
     "data": {
      "application/vnd.jupyter.widget-view+json": {
       "model_id": "6aa13721fc48418f95394cc89cd67ff4",
       "version_major": 2,
       "version_minor": 0
      },
      "text/plain": [
       "HBox(children=(HTML(value='Render HTML'), FloatProgress(value=0.0, max=1.0), HTML(value='')))"
      ]
     },
     "metadata": {},
     "output_type": "display_data"
    },
    {
     "name": "stdout",
     "output_type": "stream",
     "text": [
      "\n"
     ]
    },
    {
     "data": {
      "application/vnd.jupyter.widget-view+json": {
       "model_id": "3765bcf2dd4a4250bacf0ca3d7e931db",
       "version_major": 2,
       "version_minor": 0
      },
      "text/plain": [
       "HBox(children=(HTML(value='Export report to file'), FloatProgress(value=0.0, max=1.0), HTML(value='')))"
      ]
     },
     "metadata": {},
     "output_type": "display_data"
    },
    {
     "name": "stdout",
     "output_type": "stream",
     "text": [
      "\n",
      "Post-Profiling Accomplished!\n"
     ]
    }
   ],
   "source": [
    "profile = ProfileReport(df = data_trn,explorative = True)\n",
    "profile.to_file(output_file = 'price_prediction_PostProfilingReport.html')\n",
    "print('Post-Profiling Accomplished!')"
   ]
  },
  {
   "cell_type": "markdown",
   "metadata": {},
   "source": [
    "**Data is clean so we are good to go for Analysis**"
   ]
  },
  {
   "cell_type": "markdown",
   "metadata": {},
   "source": [
    "<a name = section6></a>\n",
    "## 6. Exploratory Data Analysis"
   ]
  },
  {
   "cell_type": "code",
   "execution_count": 18,
   "metadata": {},
   "outputs": [
    {
     "data": {
      "text/plain": [
       "<AxesSubplot:xlabel='price', ylabel='Density'>"
      ]
     },
     "execution_count": 18,
     "metadata": {},
     "output_type": "execute_result"
    },
    {
     "data": {
      "image/png": "[encoded data removed]",
      "text/plain": [
       "<Figure size 432x288 with 1 Axes>"
      ]
     },
     "metadata": {
      "needs_background": "light"
     },
     "output_type": "display_data"
    }
   ],
   "source": [
    "sns.distplot(data_trn['price'])"
   ]
  },
  {
   "cell_type": "markdown",
   "metadata": {},
   "source": [
    "## Observations\n",
    "\n",
    " - There is **Skewness** in the target variable.\n",
    " - We have to **transform** it so it can be used for **model building.**"
   ]
  },
  {
   "cell_type": "markdown",
   "metadata": {},
   "source": [
    "<a name = section601></a>\n",
    "### 6.1 Analysis of features w.r.t. Target Variable"
   ]
  },
  {
   "cell_type": "code",
   "execution_count": 19,
   "metadata": {},
   "outputs": [
    {
     "data": {
      "image/png": "[encoded data removed]",
      "text/plain": [
       "<Figure size 720x504 with 1 Axes>"
      ]
     },
     "metadata": {
      "needs_background": "light"
     },
     "output_type": "display_data"
    }
   ],
   "source": [
    "# Manufacturer having highest Car count\n",
    "fig = plt.figure(figsize = (10,7))\n",
    "data_trn['make'].value_counts().plot(kind = 'barh', cmap = 'Dark2')\n",
    "plt.ylabel('Brand Name', size = 14)\n",
    "plt.xlabel('Car count', size = 14)\n",
    "plt.title('Maker having Highest Car count', size = 16)\n",
    "plt.grid()"
   ]
  },
  {
   "cell_type": "code",
   "execution_count": 20,
   "metadata": {
    "scrolled": true
   },
   "outputs": [
    {
     "data": {
      "image/png": "[encoded data removed]",
      "text/plain": [
       "<Figure size 720x504 with 1 Axes>"
      ]
     },
     "metadata": {
      "needs_background": "light"
     },
     "output_type": "display_data"
    }
   ],
   "source": [
    "# No of cars having four doors\n",
    "figure = plt.figure(figsize =(10,7))\n",
    "data_trn['num-of-doors'].value_counts().plot(kind = 'barh',color = 'green')\n",
    "plt.xlabel('Car count', size = 14)\n",
    "plt.ylabel('Car Doors', size = 14)\n",
    "plt.title('No of cars with door count', size = 16)\n",
    "plt.grid()"
   ]
  },
  {
   "cell_type": "code",
   "execution_count": 21,
   "metadata": {},
   "outputs": [
    {
     "data": {
      "text/plain": [
       "Text(0.5, 1.0, 'Cars having Drive wheel count')"
      ]
     },
     "execution_count": 21,
     "metadata": {},
     "output_type": "execute_result"
    },
    {
     "data": {
      "image/png": "[encoded data removed]",
      "text/plain": [
       "<Figure size 720x504 with 1 Axes>"
      ]
     },
     "metadata": {
      "needs_background": "light"
     },
     "output_type": "display_data"
    }
   ],
   "source": [
    "# Drive wheel counts for Cars\n",
    "figure = plt.figure(figsize = (10,7)) \n",
    "data_trn['drive-wheels'].value_counts().plot( kind= 'bar', cmap = 'Dark2')\n",
    "plt.xlabel('No of Drive wheels', size = 14)\n",
    "plt.ylabel('Car Count', size = 14)\n",
    "plt.title('Cars having Drive wheel count', size = 16)"
   ]
  },
  {
   "cell_type": "code",
   "execution_count": 22,
   "metadata": {},
   "outputs": [
    {
     "data": {
      "image/png": "[encoded data removed]",
      "text/plain": [
       "<Figure size 720x504 with 1 Axes>"
      ]
     },
     "metadata": {
      "needs_background": "light"
     },
     "output_type": "display_data"
    }
   ],
   "source": [
    "# Car counts with Dree of risk\n",
    "figure = plt.figure(figsize = (10,7))\n",
    "data_trn['symboling'].value_counts().plot(kind = 'barh', cmap = 'Set2')\n",
    "plt.xlabel('Car Count', size = 14)\n",
    "plt.ylabel('Risk count', size = 14)\n",
    "plt.title('Risk profile', size = 16)\n",
    "plt.grid()"
   ]
  },
  {
   "cell_type": "code",
   "execution_count": 23,
   "metadata": {},
   "outputs": [
    {
     "data": {
      "image/png": "[encoded data removed]",
      "text/plain": [
       "<Figure size 1440x576 with 1 Axes>"
      ]
     },
     "metadata": {
      "needs_background": "light"
     },
     "output_type": "display_data"
    }
   ],
   "source": [
    "# Most Expensive Car\n",
    "figure = plt.figure(figsize = (20,8))\n",
    "make_price = data_trn.groupby('make')['price'].mean()   # value_counts().sort_values(ascending = False)[:15]\n",
    "#make_price = data_trn.price.sort_values(ascending=False)[:15]\n",
    "#make_price = data_trn.groupby('make')['price']#.sort_values(ascending=False)[:15]\n",
    "make_price.plot.bar(color = 'tomato')\n",
    "plt.xlabel('Car Company', size = 14)\n",
    "plt.ylabel('Car Price', size = 14)\n",
    "plt.title('Most Expensive Car', size = 16)\n",
    "plt.xticks(size = 12)\n",
    "plt.grid()"
   ]
  },
  {
   "cell_type": "code",
   "execution_count": 24,
   "metadata": {},
   "outputs": [
    {
     "data": {
      "text/plain": [
       "<seaborn.axisgrid.PairGrid at 0x2170bc62df0>"
      ]
     },
     "execution_count": 24,
     "metadata": {},
     "output_type": "execute_result"
    },
    {
     "data": {
      "image/png": "[encoded data removed]",
      "text/plain": [
       "<Figure size 1296x864 with 42 Axes>"
      ]
     },
     "metadata": {
      "needs_background": "light"
     },
     "output_type": "display_data"
    }
   ],
   "source": [
    "# Correlation between Matrices\n",
    "sns.pairplot(data= data_trn[['price','city-mpg','highway-mpg','horsepower','engine-size','curb-weight']], height = 2, aspect = 1.5)"
   ]
  },
  {
   "cell_type": "code",
   "execution_count": 25,
   "metadata": {},
   "outputs": [
    {
     "data": {
      "text/plain": [
       "Text(0.5, 1.0, 'Correlation HeatMap')"
      ]
     },
     "execution_count": 25,
     "metadata": {},
     "output_type": "execute_result"
    },
    {
     "data": {
      "image/png": "[encoded data removed]",
      "text/plain": [
       "<Figure size 1440x576 with 2 Axes>"
      ]
     },
     "metadata": {
      "needs_background": "light"
     },
     "output_type": "display_data"
    }
   ],
   "source": [
    "figure = plt.figure(figsize = (20,8))\n",
    "HeatMap = sns.heatmap(data_trn.corr(),annot = True,cmap = 'coolwarm',vmin = 0, vmax = 1,linecolor = 'black',linewidths = 1)\n",
    "HeatMap.set_title('Correlation HeatMap', fontdict = {'fontsize':16})"
   ]
  },
  {
   "cell_type": "code",
   "execution_count": 85,
   "metadata": {
    "scrolled": true
   },
   "outputs": [
    {
     "data": {
      "text/plain": [
       "<AxesSubplot:>"
      ]
     },
     "execution_count": 85,
     "metadata": {},
     "output_type": "execute_result"
    },
    {
     "data": {
      "image/png": "[encoded data removed]",
      "text/plain": [
       "<Figure size 720x504 with 1 Axes>"
      ]
     },
     "metadata": {
      "needs_background": "light"
     },
     "output_type": "display_data"
    }
   ],
   "source": [
    "data_trn[['highway-mpg', 'city-mpg','horsepower','engine-size']].plot(kind='box', figsize=(10, 7), vert=False)"
   ]
  },
  {
   "cell_type": "markdown",
   "metadata": {},
   "source": [
    "## Observations\n",
    "\n",
    " - **Price** is having **Strong Positive correlation** with **curb-weight (0.84), engine-size (0.87) and horsepower (0.8).**\n",
    " - **Price** is having **Strong Negative correlation** with **city-mpg (0.68) and highway-mpg (0.7).**\n",
    " - Some independent variables, **Measures of size** (length, width) are **highly correlated**, resulting **Multicollinearity.**\n",
    " - Some Outliers are still present in the feature columns of dataset, for which we will **apply Transformations**. \n"
   ]
  },
  {
   "cell_type": "markdown",
   "metadata": {},
   "source": [
    "<a name = section7></a>\n",
    "## 7. Data Post-processing"
   ]
  },
  {
   "cell_type": "markdown",
   "metadata": {},
   "source": [
    " - **Machine Learning Algorithm** works with **numerical** values.\n",
    " - So, it is necessary to **convert the categorical columns into Numerical columns.**"
   ]
  },
  {
   "cell_type": "markdown",
   "metadata": {},
   "source": [
    "<a name = section701></a>\n",
    "### 7.1 Handling Categorical columns "
   ]
  },
  {
   "cell_type": "markdown",
   "metadata": {},
   "source": [
    "### (A) Categorical Columns : \n",
    "make, fuel-type, aspiration, num-of-doors, body-style, drive-wheels, engine-location, engine-type, num-of-cylinders, fuel-system.\n",
    "\n",
    "### (B) Numerical Columns:\n",
    "ID, symboling, normalized-losses, wheel-base, length, width, height, curb-weight, bore, stroke, compression- ratio, horsepower, peak-rpm, city-mpg, highway-mpg."
   ]
  },
  {
   "cell_type": "code",
   "execution_count": 27,
   "metadata": {},
   "outputs": [],
   "source": [
    "# Creating a new Dataframe\n",
    "data = data_trn.copy()"
   ]
  },
  {
   "cell_type": "markdown",
   "metadata": {},
   "source": [
    "### Label Encoding for Categorical columns"
   ]
  },
  {
   "cell_type": "code",
   "execution_count": 28,
   "metadata": {},
   "outputs": [],
   "source": [
    "from sklearn.preprocessing import LabelEncoder\n",
    "le_make=LabelEncoder()\n",
    "le_fuel_type=LabelEncoder()\n",
    "le_aspiration=LabelEncoder()\n",
    "le_num_of_doors=LabelEncoder()\n",
    "le_body_style=LabelEncoder()\n",
    "le_drive_wheels=LabelEncoder()\n",
    "le_engine_location=LabelEncoder()\n",
    "le_engine_type=LabelEncoder()\n",
    "le_num_of_cylinders=LabelEncoder()\n",
    "le_fuel_system=LabelEncoder()\n",
    "data['make_n']= le_make.fit_transform(data['make'])\n",
    "data['fuel-type_n']= le_fuel_type.fit_transform(data['fuel-type'])\n",
    "data['aspiration_n']= le_aspiration.fit_transform(data['aspiration'])\n",
    "data['num-of-doors_n']= le_num_of_doors.fit_transform(data['num-of-doors'])\n",
    "data['body-style_n']= le_body_style.fit_transform(data['body-style'])\n",
    "data['drive-wheels_n']= le_drive_wheels.fit_transform(data['drive-wheels'])\n",
    "data['engine-location_n']= le_engine_location.fit_transform(data['engine-location'])\n",
    "data['engine-type_n']= le_engine_type.fit_transform(data['engine-type'])\n",
    "data['num-of-cylinders_n']= le_num_of_cylinders.fit_transform(data['num-of-cylinders'])\n",
    "data['fuel-system_n']= le_fuel_system.fit_transform(data['fuel-system'])"
   ]
  },
  {
   "cell_type": "code",
   "execution_count": 29,
   "metadata": {},
   "outputs": [
    {
     "data": {
      "text/html": [
       "<div>\n",
       "<style scoped>\n",
       "    .dataframe tbody tr th:only-of-type {\n",
       "        vertical-align: middle;\n",
       "    }\n",
       "\n",
       "    .dataframe tbody tr th {\n",
       "        vertical-align: top;\n",
       "    }\n",
       "\n",
       "    .dataframe thead th {\n",
       "        text-align: right;\n",
       "    }\n",
       "</style>\n",
       "<table border=\"1\" class=\"dataframe\">\n",
       "  <thead>\n",
       "    <tr style=\"text-align: right;\">\n",
       "      <th></th>\n",
       "      <th>ID</th>\n",
       "      <th>symboling</th>\n",
       "      <th>normalized-losses</th>\n",
       "      <th>make</th>\n",
       "      <th>fuel-type</th>\n",
       "      <th>aspiration</th>\n",
       "      <th>num-of-doors</th>\n",
       "      <th>body-style</th>\n",
       "      <th>drive-wheels</th>\n",
       "      <th>engine-location</th>\n",
       "      <th>...</th>\n",
       "      <th>make_n</th>\n",
       "      <th>fuel-type_n</th>\n",
       "      <th>aspiration_n</th>\n",
       "      <th>num-of-doors_n</th>\n",
       "      <th>body-style_n</th>\n",
       "      <th>drive-wheels_n</th>\n",
       "      <th>engine-location_n</th>\n",
       "      <th>engine-type_n</th>\n",
       "      <th>num-of-cylinders_n</th>\n",
       "      <th>fuel-system_n</th>\n",
       "    </tr>\n",
       "  </thead>\n",
       "  <tbody>\n",
       "    <tr>\n",
       "      <th>0</th>\n",
       "      <td>1</td>\n",
       "      <td>-1</td>\n",
       "      <td>65.0</td>\n",
       "      <td>toyota</td>\n",
       "      <td>gas</td>\n",
       "      <td>std</td>\n",
       "      <td>four</td>\n",
       "      <td>hatchback</td>\n",
       "      <td>fwd</td>\n",
       "      <td>front</td>\n",
       "      <td>...</td>\n",
       "      <td>19</td>\n",
       "      <td>1</td>\n",
       "      <td>0</td>\n",
       "      <td>0</td>\n",
       "      <td>2</td>\n",
       "      <td>1</td>\n",
       "      <td>0</td>\n",
       "      <td>2</td>\n",
       "      <td>2</td>\n",
       "      <td>5</td>\n",
       "    </tr>\n",
       "    <tr>\n",
       "      <th>1</th>\n",
       "      <td>2</td>\n",
       "      <td>0</td>\n",
       "      <td>188.0</td>\n",
       "      <td>bmw</td>\n",
       "      <td>gas</td>\n",
       "      <td>std</td>\n",
       "      <td>two</td>\n",
       "      <td>sedan</td>\n",
       "      <td>rwd</td>\n",
       "      <td>front</td>\n",
       "      <td>...</td>\n",
       "      <td>2</td>\n",
       "      <td>1</td>\n",
       "      <td>0</td>\n",
       "      <td>1</td>\n",
       "      <td>3</td>\n",
       "      <td>2</td>\n",
       "      <td>0</td>\n",
       "      <td>2</td>\n",
       "      <td>3</td>\n",
       "      <td>5</td>\n",
       "    </tr>\n",
       "    <tr>\n",
       "      <th>2</th>\n",
       "      <td>3</td>\n",
       "      <td>0</td>\n",
       "      <td>115.0</td>\n",
       "      <td>renault</td>\n",
       "      <td>gas</td>\n",
       "      <td>std</td>\n",
       "      <td>four</td>\n",
       "      <td>wagon</td>\n",
       "      <td>fwd</td>\n",
       "      <td>front</td>\n",
       "      <td>...</td>\n",
       "      <td>16</td>\n",
       "      <td>1</td>\n",
       "      <td>0</td>\n",
       "      <td>0</td>\n",
       "      <td>4</td>\n",
       "      <td>1</td>\n",
       "      <td>0</td>\n",
       "      <td>2</td>\n",
       "      <td>2</td>\n",
       "      <td>5</td>\n",
       "    </tr>\n",
       "    <tr>\n",
       "      <th>3</th>\n",
       "      <td>4</td>\n",
       "      <td>0</td>\n",
       "      <td>161.0</td>\n",
       "      <td>peugot</td>\n",
       "      <td>diesel</td>\n",
       "      <td>turbo</td>\n",
       "      <td>four</td>\n",
       "      <td>sedan</td>\n",
       "      <td>rwd</td>\n",
       "      <td>front</td>\n",
       "      <td>...</td>\n",
       "      <td>13</td>\n",
       "      <td>0</td>\n",
       "      <td>1</td>\n",
       "      <td>0</td>\n",
       "      <td>3</td>\n",
       "      <td>2</td>\n",
       "      <td>0</td>\n",
       "      <td>1</td>\n",
       "      <td>2</td>\n",
       "      <td>3</td>\n",
       "    </tr>\n",
       "    <tr>\n",
       "      <th>4</th>\n",
       "      <td>5</td>\n",
       "      <td>-2</td>\n",
       "      <td>103.0</td>\n",
       "      <td>volvo</td>\n",
       "      <td>gas</td>\n",
       "      <td>std</td>\n",
       "      <td>four</td>\n",
       "      <td>sedan</td>\n",
       "      <td>rwd</td>\n",
       "      <td>front</td>\n",
       "      <td>...</td>\n",
       "      <td>21</td>\n",
       "      <td>1</td>\n",
       "      <td>0</td>\n",
       "      <td>0</td>\n",
       "      <td>3</td>\n",
       "      <td>2</td>\n",
       "      <td>0</td>\n",
       "      <td>2</td>\n",
       "      <td>2</td>\n",
       "      <td>5</td>\n",
       "    </tr>\n",
       "    <tr>\n",
       "      <th>5</th>\n",
       "      <td>6</td>\n",
       "      <td>1</td>\n",
       "      <td>118.0</td>\n",
       "      <td>dodge</td>\n",
       "      <td>gas</td>\n",
       "      <td>turbo</td>\n",
       "      <td>two</td>\n",
       "      <td>hatchback</td>\n",
       "      <td>fwd</td>\n",
       "      <td>front</td>\n",
       "      <td>...</td>\n",
       "      <td>4</td>\n",
       "      <td>1</td>\n",
       "      <td>1</td>\n",
       "      <td>1</td>\n",
       "      <td>2</td>\n",
       "      <td>1</td>\n",
       "      <td>0</td>\n",
       "      <td>2</td>\n",
       "      <td>2</td>\n",
       "      <td>5</td>\n",
       "    </tr>\n",
       "    <tr>\n",
       "      <th>6</th>\n",
       "      <td>7</td>\n",
       "      <td>0</td>\n",
       "      <td>145.0</td>\n",
       "      <td>jaguar</td>\n",
       "      <td>gas</td>\n",
       "      <td>std</td>\n",
       "      <td>four</td>\n",
       "      <td>sedan</td>\n",
       "      <td>rwd</td>\n",
       "      <td>front</td>\n",
       "      <td>...</td>\n",
       "      <td>7</td>\n",
       "      <td>1</td>\n",
       "      <td>0</td>\n",
       "      <td>0</td>\n",
       "      <td>3</td>\n",
       "      <td>2</td>\n",
       "      <td>0</td>\n",
       "      <td>0</td>\n",
       "      <td>3</td>\n",
       "      <td>5</td>\n",
       "    </tr>\n",
       "    <tr>\n",
       "      <th>7</th>\n",
       "      <td>8</td>\n",
       "      <td>3</td>\n",
       "      <td>115.0</td>\n",
       "      <td>porsche</td>\n",
       "      <td>gas</td>\n",
       "      <td>std</td>\n",
       "      <td>two</td>\n",
       "      <td>hardtop</td>\n",
       "      <td>rwd</td>\n",
       "      <td>rear</td>\n",
       "      <td>...</td>\n",
       "      <td>15</td>\n",
       "      <td>1</td>\n",
       "      <td>0</td>\n",
       "      <td>1</td>\n",
       "      <td>1</td>\n",
       "      <td>2</td>\n",
       "      <td>1</td>\n",
       "      <td>3</td>\n",
       "      <td>3</td>\n",
       "      <td>5</td>\n",
       "    </tr>\n",
       "    <tr>\n",
       "      <th>8</th>\n",
       "      <td>9</td>\n",
       "      <td>0</td>\n",
       "      <td>89.0</td>\n",
       "      <td>subaru</td>\n",
       "      <td>gas</td>\n",
       "      <td>std</td>\n",
       "      <td>four</td>\n",
       "      <td>wagon</td>\n",
       "      <td>fwd</td>\n",
       "      <td>front</td>\n",
       "      <td>...</td>\n",
       "      <td>18</td>\n",
       "      <td>1</td>\n",
       "      <td>0</td>\n",
       "      <td>0</td>\n",
       "      <td>4</td>\n",
       "      <td>1</td>\n",
       "      <td>0</td>\n",
       "      <td>3</td>\n",
       "      <td>2</td>\n",
       "      <td>5</td>\n",
       "    </tr>\n",
       "    <tr>\n",
       "      <th>9</th>\n",
       "      <td>10</td>\n",
       "      <td>3</td>\n",
       "      <td>153.0</td>\n",
       "      <td>mitsubishi</td>\n",
       "      <td>gas</td>\n",
       "      <td>turbo</td>\n",
       "      <td>two</td>\n",
       "      <td>hatchback</td>\n",
       "      <td>fwd</td>\n",
       "      <td>front</td>\n",
       "      <td>...</td>\n",
       "      <td>11</td>\n",
       "      <td>1</td>\n",
       "      <td>1</td>\n",
       "      <td>1</td>\n",
       "      <td>2</td>\n",
       "      <td>1</td>\n",
       "      <td>0</td>\n",
       "      <td>2</td>\n",
       "      <td>2</td>\n",
       "      <td>6</td>\n",
       "    </tr>\n",
       "  </tbody>\n",
       "</table>\n",
       "<p>10 rows × 37 columns</p>\n",
       "</div>"
      ],
      "text/plain": [
       "   ID  symboling  normalized-losses        make fuel-type aspiration  \\\n",
       "0   1         -1               65.0      toyota       gas        std   \n",
       "1   2          0              188.0         bmw       gas        std   \n",
       "2   3          0              115.0     renault       gas        std   \n",
       "3   4          0              161.0      peugot    diesel      turbo   \n",
       "4   5         -2              103.0       volvo       gas        std   \n",
       "5   6          1              118.0       dodge       gas      turbo   \n",
       "6   7          0              145.0      jaguar       gas        std   \n",
       "7   8          3              115.0     porsche       gas        std   \n",
       "8   9          0               89.0      subaru       gas        std   \n",
       "9  10          3              153.0  mitsubishi       gas      turbo   \n",
       "\n",
       "  num-of-doors body-style drive-wheels engine-location  ...  make_n  \\\n",
       "0         four  hatchback          fwd           front  ...      19   \n",
       "1          two      sedan          rwd           front  ...       2   \n",
       "2         four      wagon          fwd           front  ...      16   \n",
       "3         four      sedan          rwd           front  ...      13   \n",
       "4         four      sedan          rwd           front  ...      21   \n",
       "5          two  hatchback          fwd           front  ...       4   \n",
       "6         four      sedan          rwd           front  ...       7   \n",
       "7          two    hardtop          rwd            rear  ...      15   \n",
       "8         four      wagon          fwd           front  ...      18   \n",
       "9          two  hatchback          fwd           front  ...      11   \n",
       "\n",
       "   fuel-type_n  aspiration_n  num-of-doors_n  body-style_n drive-wheels_n  \\\n",
       "0            1             0               0             2              1   \n",
       "1            1             0               1             3              2   \n",
       "2            1             0               0             4              1   \n",
       "3            0             1               0             3              2   \n",
       "4            1             0               0             3              2   \n",
       "5            1             1               1             2              1   \n",
       "6            1             0               0             3              2   \n",
       "7            1             0               1             1              2   \n",
       "8            1             0               0             4              1   \n",
       "9            1             1               1             2              1   \n",
       "\n",
       "  engine-location_n  engine-type_n num-of-cylinders_n  fuel-system_n  \n",
       "0                 0              2                  2              5  \n",
       "1                 0              2                  3              5  \n",
       "2                 0              2                  2              5  \n",
       "3                 0              1                  2              3  \n",
       "4                 0              2                  2              5  \n",
       "5                 0              2                  2              5  \n",
       "6                 0              0                  3              5  \n",
       "7                 1              3                  3              5  \n",
       "8                 0              3                  2              5  \n",
       "9                 0              2                  2              6  \n",
       "\n",
       "[10 rows x 37 columns]"
      ]
     },
     "execution_count": 29,
     "metadata": {},
     "output_type": "execute_result"
    }
   ],
   "source": [
    "data.head(10)"
   ]
  },
  {
   "cell_type": "markdown",
   "metadata": {},
   "source": [
    "## Observations\n",
    "- **10 New columns** were prepared having **Numerical Value.**\n",
    "- Now, We can **Drop the columns** having **data type 'Object'.**"
   ]
  },
  {
   "cell_type": "code",
   "execution_count": 30,
   "metadata": {},
   "outputs": [],
   "source": [
    "data = data.drop(['make', 'fuel-type', 'aspiration', 'num-of-doors', 'body-style', 'drive-wheels', 'engine-location', 'engine-type', 'num-of-cylinders', 'fuel-system'], axis = 1) "
   ]
  },
  {
   "cell_type": "code",
   "execution_count": 31,
   "metadata": {},
   "outputs": [
    {
     "data": {
      "text/html": [
       "<div>\n",
       "<style scoped>\n",
       "    .dataframe tbody tr th:only-of-type {\n",
       "        vertical-align: middle;\n",
       "    }\n",
       "\n",
       "    .dataframe tbody tr th {\n",
       "        vertical-align: top;\n",
       "    }\n",
       "\n",
       "    .dataframe thead th {\n",
       "        text-align: right;\n",
       "    }\n",
       "</style>\n",
       "<table border=\"1\" class=\"dataframe\">\n",
       "  <thead>\n",
       "    <tr style=\"text-align: right;\">\n",
       "      <th></th>\n",
       "      <th>ID</th>\n",
       "      <th>symboling</th>\n",
       "      <th>normalized-losses</th>\n",
       "      <th>wheel-base</th>\n",
       "      <th>length</th>\n",
       "      <th>width</th>\n",
       "      <th>height</th>\n",
       "      <th>curb-weight</th>\n",
       "      <th>engine-size</th>\n",
       "      <th>bore</th>\n",
       "      <th>...</th>\n",
       "      <th>make_n</th>\n",
       "      <th>fuel-type_n</th>\n",
       "      <th>aspiration_n</th>\n",
       "      <th>num-of-doors_n</th>\n",
       "      <th>body-style_n</th>\n",
       "      <th>drive-wheels_n</th>\n",
       "      <th>engine-location_n</th>\n",
       "      <th>engine-type_n</th>\n",
       "      <th>num-of-cylinders_n</th>\n",
       "      <th>fuel-system_n</th>\n",
       "    </tr>\n",
       "  </thead>\n",
       "  <tbody>\n",
       "    <tr>\n",
       "      <th>0</th>\n",
       "      <td>1</td>\n",
       "      <td>-1</td>\n",
       "      <td>65.0</td>\n",
       "      <td>102.4</td>\n",
       "      <td>175.6</td>\n",
       "      <td>66.5</td>\n",
       "      <td>53.9</td>\n",
       "      <td>2458</td>\n",
       "      <td>122</td>\n",
       "      <td>3.31</td>\n",
       "      <td>...</td>\n",
       "      <td>19</td>\n",
       "      <td>1</td>\n",
       "      <td>0</td>\n",
       "      <td>0</td>\n",
       "      <td>2</td>\n",
       "      <td>1</td>\n",
       "      <td>0</td>\n",
       "      <td>2</td>\n",
       "      <td>2</td>\n",
       "      <td>5</td>\n",
       "    </tr>\n",
       "  </tbody>\n",
       "</table>\n",
       "<p>1 rows × 27 columns</p>\n",
       "</div>"
      ],
      "text/plain": [
       "   ID  symboling  normalized-losses  wheel-base  length  width  height  \\\n",
       "0   1         -1               65.0       102.4   175.6   66.5    53.9   \n",
       "\n",
       "   curb-weight  engine-size  bore  ...  make_n  fuel-type_n  aspiration_n  \\\n",
       "0         2458          122  3.31  ...      19            1             0   \n",
       "\n",
       "   num-of-doors_n  body-style_n  drive-wheels_n  engine-location_n  \\\n",
       "0               0             2               1                  0   \n",
       "\n",
       "   engine-type_n  num-of-cylinders_n  fuel-system_n  \n",
       "0              2                   2              5  \n",
       "\n",
       "[1 rows x 27 columns]"
      ]
     },
     "execution_count": 31,
     "metadata": {},
     "output_type": "execute_result"
    }
   ],
   "source": [
    "data.head(1)"
   ]
  },
  {
   "cell_type": "markdown",
   "metadata": {},
   "source": [
    "### Re-arranging the data set as per our need"
   ]
  },
  {
   "cell_type": "code",
   "execution_count": 32,
   "metadata": {},
   "outputs": [],
   "source": [
    "data = data[['ID', 'symboling', 'normalized-losses', 'make_n', 'fuel-type_n',\n",
    "       'aspiration_n', 'num-of-doors_n', 'body-style_n', 'drive-wheels_n',\n",
    "       'engine-location_n', 'wheel-base', 'length', 'width', 'height',\n",
    "       'curb-weight', 'engine-type_n', 'num-of-cylinders_n', 'engine-size',\n",
    "       'fuel-system_n', 'bore', 'stroke', 'compression-ratio', 'horsepower',\n",
    "       'peak-rpm', 'city-mpg', 'highway-mpg', 'price' ]]"
   ]
  },
  {
   "cell_type": "code",
   "execution_count": 33,
   "metadata": {},
   "outputs": [
    {
     "data": {
      "text/html": [
       "<div>\n",
       "<style scoped>\n",
       "    .dataframe tbody tr th:only-of-type {\n",
       "        vertical-align: middle;\n",
       "    }\n",
       "\n",
       "    .dataframe tbody tr th {\n",
       "        vertical-align: top;\n",
       "    }\n",
       "\n",
       "    .dataframe thead th {\n",
       "        text-align: right;\n",
       "    }\n",
       "</style>\n",
       "<table border=\"1\" class=\"dataframe\">\n",
       "  <thead>\n",
       "    <tr style=\"text-align: right;\">\n",
       "      <th></th>\n",
       "      <th>ID</th>\n",
       "      <th>symboling</th>\n",
       "      <th>normalized-losses</th>\n",
       "      <th>make_n</th>\n",
       "      <th>fuel-type_n</th>\n",
       "      <th>aspiration_n</th>\n",
       "      <th>num-of-doors_n</th>\n",
       "      <th>body-style_n</th>\n",
       "      <th>drive-wheels_n</th>\n",
       "      <th>engine-location_n</th>\n",
       "      <th>...</th>\n",
       "      <th>engine-size</th>\n",
       "      <th>fuel-system_n</th>\n",
       "      <th>bore</th>\n",
       "      <th>stroke</th>\n",
       "      <th>compression-ratio</th>\n",
       "      <th>horsepower</th>\n",
       "      <th>peak-rpm</th>\n",
       "      <th>city-mpg</th>\n",
       "      <th>highway-mpg</th>\n",
       "      <th>price</th>\n",
       "    </tr>\n",
       "  </thead>\n",
       "  <tbody>\n",
       "    <tr>\n",
       "      <th>0</th>\n",
       "      <td>1</td>\n",
       "      <td>-1</td>\n",
       "      <td>65.0</td>\n",
       "      <td>19</td>\n",
       "      <td>1</td>\n",
       "      <td>0</td>\n",
       "      <td>0</td>\n",
       "      <td>2</td>\n",
       "      <td>1</td>\n",
       "      <td>0</td>\n",
       "      <td>...</td>\n",
       "      <td>122</td>\n",
       "      <td>5</td>\n",
       "      <td>3.31</td>\n",
       "      <td>3.54</td>\n",
       "      <td>8.7</td>\n",
       "      <td>92.0</td>\n",
       "      <td>4200.0</td>\n",
       "      <td>27</td>\n",
       "      <td>32</td>\n",
       "      <td>11248</td>\n",
       "    </tr>\n",
       "  </tbody>\n",
       "</table>\n",
       "<p>1 rows × 27 columns</p>\n",
       "</div>"
      ],
      "text/plain": [
       "   ID  symboling  normalized-losses  make_n  fuel-type_n  aspiration_n  \\\n",
       "0   1         -1               65.0      19            1             0   \n",
       "\n",
       "   num-of-doors_n  body-style_n  drive-wheels_n  engine-location_n  ...  \\\n",
       "0               0             2               1                  0  ...   \n",
       "\n",
       "   engine-size  fuel-system_n  bore  stroke  compression-ratio  horsepower  \\\n",
       "0          122              5  3.31    3.54                8.7        92.0   \n",
       "\n",
       "   peak-rpm  city-mpg  highway-mpg  price  \n",
       "0    4200.0        27           32  11248  \n",
       "\n",
       "[1 rows x 27 columns]"
      ]
     },
     "execution_count": 33,
     "metadata": {},
     "output_type": "execute_result"
    }
   ],
   "source": [
    "data.head(1)"
   ]
  },
  {
   "cell_type": "markdown",
   "metadata": {},
   "source": [
    "<a name = section702></a>\n",
    "### 7.2 Feature Extraction \n"
   ]
  },
  {
   "cell_type": "code",
   "execution_count": 34,
   "metadata": {},
   "outputs": [],
   "source": [
    "data_features = data.drop(['price'],axis = 1)           # Feature/Independent Variable\n",
    "data_target = data['price']                             # Target/Dependent Variable"
   ]
  },
  {
   "cell_type": "code",
   "execution_count": 35,
   "metadata": {},
   "outputs": [
    {
     "data": {
      "text/html": [
       "<div>\n",
       "<style scoped>\n",
       "    .dataframe tbody tr th:only-of-type {\n",
       "        vertical-align: middle;\n",
       "    }\n",
       "\n",
       "    .dataframe tbody tr th {\n",
       "        vertical-align: top;\n",
       "    }\n",
       "\n",
       "    .dataframe thead th {\n",
       "        text-align: right;\n",
       "    }\n",
       "</style>\n",
       "<table border=\"1\" class=\"dataframe\">\n",
       "  <thead>\n",
       "    <tr style=\"text-align: right;\">\n",
       "      <th></th>\n",
       "      <th>ID</th>\n",
       "      <th>symboling</th>\n",
       "      <th>normalized-losses</th>\n",
       "      <th>make_n</th>\n",
       "      <th>fuel-type_n</th>\n",
       "      <th>aspiration_n</th>\n",
       "      <th>num-of-doors_n</th>\n",
       "      <th>body-style_n</th>\n",
       "      <th>drive-wheels_n</th>\n",
       "      <th>engine-location_n</th>\n",
       "      <th>...</th>\n",
       "      <th>num-of-cylinders_n</th>\n",
       "      <th>engine-size</th>\n",
       "      <th>fuel-system_n</th>\n",
       "      <th>bore</th>\n",
       "      <th>stroke</th>\n",
       "      <th>compression-ratio</th>\n",
       "      <th>horsepower</th>\n",
       "      <th>peak-rpm</th>\n",
       "      <th>city-mpg</th>\n",
       "      <th>highway-mpg</th>\n",
       "    </tr>\n",
       "  </thead>\n",
       "  <tbody>\n",
       "    <tr>\n",
       "      <th>0</th>\n",
       "      <td>1</td>\n",
       "      <td>-1</td>\n",
       "      <td>65.0</td>\n",
       "      <td>19</td>\n",
       "      <td>1</td>\n",
       "      <td>0</td>\n",
       "      <td>0</td>\n",
       "      <td>2</td>\n",
       "      <td>1</td>\n",
       "      <td>0</td>\n",
       "      <td>...</td>\n",
       "      <td>2</td>\n",
       "      <td>122</td>\n",
       "      <td>5</td>\n",
       "      <td>3.31</td>\n",
       "      <td>3.54</td>\n",
       "      <td>8.7</td>\n",
       "      <td>92.0</td>\n",
       "      <td>4200.0</td>\n",
       "      <td>27</td>\n",
       "      <td>32</td>\n",
       "    </tr>\n",
       "  </tbody>\n",
       "</table>\n",
       "<p>1 rows × 26 columns</p>\n",
       "</div>"
      ],
      "text/plain": [
       "   ID  symboling  normalized-losses  make_n  fuel-type_n  aspiration_n  \\\n",
       "0   1         -1               65.0      19            1             0   \n",
       "\n",
       "   num-of-doors_n  body-style_n  drive-wheels_n  engine-location_n  ...  \\\n",
       "0               0             2               1                  0  ...   \n",
       "\n",
       "   num-of-cylinders_n  engine-size  fuel-system_n  bore  stroke  \\\n",
       "0                   2          122              5  3.31    3.54   \n",
       "\n",
       "   compression-ratio  horsepower  peak-rpm  city-mpg  highway-mpg  \n",
       "0                8.7        92.0    4200.0        27           32  \n",
       "\n",
       "[1 rows x 26 columns]"
      ]
     },
     "execution_count": 35,
     "metadata": {},
     "output_type": "execute_result"
    }
   ],
   "source": [
    "data_features.head(1)"
   ]
  },
  {
   "cell_type": "code",
   "execution_count": 36,
   "metadata": {},
   "outputs": [
    {
     "data": {
      "text/plain": [
       "0    11248\n",
       "Name: price, dtype: int64"
      ]
     },
     "execution_count": 36,
     "metadata": {},
     "output_type": "execute_result"
    }
   ],
   "source": [
    "data_target.head(1)"
   ]
  },
  {
   "cell_type": "markdown",
   "metadata": {},
   "source": [
    "## Splitting the dataset into train and test dataset for X and y"
   ]
  },
  {
   "cell_type": "code",
   "execution_count": 37,
   "metadata": {},
   "outputs": [],
   "source": [
    "from sklearn.model_selection import train_test_split\n",
    "X_train, X_test, y_train, y_test = train_test_split(data_features, data_target, test_size=0.2, random_state=0)"
   ]
  },
  {
   "cell_type": "code",
   "execution_count": 38,
   "metadata": {},
   "outputs": [
    {
     "name": "stdout",
     "output_type": "stream",
     "text": [
      "Train cases as below\n",
      "X_train shape:  (144, 26)\n",
      "y_train shape:  (144,)\n",
      "\n",
      "Test cases as below\n",
      "X_test shape:  (37, 26)\n",
      "y_test shape:  (37,)\n"
     ]
    }
   ],
   "source": [
    "print('Train cases as below')          # Print the shape of Train and Test data\n",
    "print('X_train shape: ',X_train.shape)\n",
    "print('y_train shape: ',y_train.shape)\n",
    "print('\\nTest cases as below')\n",
    "print('X_test shape: ',X_test.shape)\n",
    "print('y_test shape: ',y_test.shape)"
   ]
  },
  {
   "cell_type": "code",
   "execution_count": 39,
   "metadata": {},
   "outputs": [
    {
     "data": {
      "text/html": [
       "<div>\n",
       "<style scoped>\n",
       "    .dataframe tbody tr th:only-of-type {\n",
       "        vertical-align: middle;\n",
       "    }\n",
       "\n",
       "    .dataframe tbody tr th {\n",
       "        vertical-align: top;\n",
       "    }\n",
       "\n",
       "    .dataframe thead th {\n",
       "        text-align: right;\n",
       "    }\n",
       "</style>\n",
       "<table border=\"1\" class=\"dataframe\">\n",
       "  <thead>\n",
       "    <tr style=\"text-align: right;\">\n",
       "      <th></th>\n",
       "      <th>ID</th>\n",
       "      <th>symboling</th>\n",
       "      <th>normalized-losses</th>\n",
       "      <th>make_n</th>\n",
       "      <th>fuel-type_n</th>\n",
       "      <th>aspiration_n</th>\n",
       "      <th>num-of-doors_n</th>\n",
       "      <th>body-style_n</th>\n",
       "      <th>drive-wheels_n</th>\n",
       "      <th>engine-location_n</th>\n",
       "      <th>...</th>\n",
       "      <th>num-of-cylinders_n</th>\n",
       "      <th>engine-size</th>\n",
       "      <th>fuel-system_n</th>\n",
       "      <th>bore</th>\n",
       "      <th>stroke</th>\n",
       "      <th>compression-ratio</th>\n",
       "      <th>horsepower</th>\n",
       "      <th>peak-rpm</th>\n",
       "      <th>city-mpg</th>\n",
       "      <th>highway-mpg</th>\n",
       "    </tr>\n",
       "  </thead>\n",
       "  <tbody>\n",
       "    <tr>\n",
       "      <th>145</th>\n",
       "      <td>146</td>\n",
       "      <td>3</td>\n",
       "      <td>197.0</td>\n",
       "      <td>19</td>\n",
       "      <td>1</td>\n",
       "      <td>0</td>\n",
       "      <td>1</td>\n",
       "      <td>2</td>\n",
       "      <td>2</td>\n",
       "      <td>0</td>\n",
       "      <td>...</td>\n",
       "      <td>3</td>\n",
       "      <td>171</td>\n",
       "      <td>5</td>\n",
       "      <td>3.27</td>\n",
       "      <td>3.35</td>\n",
       "      <td>9.3</td>\n",
       "      <td>161.0</td>\n",
       "      <td>5200.0</td>\n",
       "      <td>19</td>\n",
       "      <td>24</td>\n",
       "    </tr>\n",
       "    <tr>\n",
       "      <th>45</th>\n",
       "      <td>46</td>\n",
       "      <td>0</td>\n",
       "      <td>91.0</td>\n",
       "      <td>19</td>\n",
       "      <td>1</td>\n",
       "      <td>0</td>\n",
       "      <td>0</td>\n",
       "      <td>2</td>\n",
       "      <td>1</td>\n",
       "      <td>0</td>\n",
       "      <td>...</td>\n",
       "      <td>2</td>\n",
       "      <td>98</td>\n",
       "      <td>1</td>\n",
       "      <td>3.19</td>\n",
       "      <td>3.03</td>\n",
       "      <td>9.0</td>\n",
       "      <td>70.0</td>\n",
       "      <td>4800.0</td>\n",
       "      <td>30</td>\n",
       "      <td>37</td>\n",
       "    </tr>\n",
       "    <tr>\n",
       "      <th>122</th>\n",
       "      <td>123</td>\n",
       "      <td>0</td>\n",
       "      <td>115.0</td>\n",
       "      <td>8</td>\n",
       "      <td>1</td>\n",
       "      <td>0</td>\n",
       "      <td>0</td>\n",
       "      <td>3</td>\n",
       "      <td>1</td>\n",
       "      <td>0</td>\n",
       "      <td>...</td>\n",
       "      <td>2</td>\n",
       "      <td>122</td>\n",
       "      <td>1</td>\n",
       "      <td>3.39</td>\n",
       "      <td>3.39</td>\n",
       "      <td>8.6</td>\n",
       "      <td>84.0</td>\n",
       "      <td>4800.0</td>\n",
       "      <td>26</td>\n",
       "      <td>32</td>\n",
       "    </tr>\n",
       "    <tr>\n",
       "      <th>178</th>\n",
       "      <td>179</td>\n",
       "      <td>1</td>\n",
       "      <td>119.0</td>\n",
       "      <td>14</td>\n",
       "      <td>1</td>\n",
       "      <td>0</td>\n",
       "      <td>1</td>\n",
       "      <td>2</td>\n",
       "      <td>1</td>\n",
       "      <td>0</td>\n",
       "      <td>...</td>\n",
       "      <td>2</td>\n",
       "      <td>90</td>\n",
       "      <td>1</td>\n",
       "      <td>2.97</td>\n",
       "      <td>3.23</td>\n",
       "      <td>9.4</td>\n",
       "      <td>68.0</td>\n",
       "      <td>5500.0</td>\n",
       "      <td>37</td>\n",
       "      <td>41</td>\n",
       "    </tr>\n",
       "    <tr>\n",
       "      <th>24</th>\n",
       "      <td>25</td>\n",
       "      <td>1</td>\n",
       "      <td>148.0</td>\n",
       "      <td>4</td>\n",
       "      <td>1</td>\n",
       "      <td>0</td>\n",
       "      <td>0</td>\n",
       "      <td>3</td>\n",
       "      <td>1</td>\n",
       "      <td>0</td>\n",
       "      <td>...</td>\n",
       "      <td>2</td>\n",
       "      <td>90</td>\n",
       "      <td>1</td>\n",
       "      <td>2.97</td>\n",
       "      <td>3.23</td>\n",
       "      <td>9.4</td>\n",
       "      <td>68.0</td>\n",
       "      <td>5500.0</td>\n",
       "      <td>31</td>\n",
       "      <td>38</td>\n",
       "    </tr>\n",
       "  </tbody>\n",
       "</table>\n",
       "<p>5 rows × 26 columns</p>\n",
       "</div>"
      ],
      "text/plain": [
       "      ID  symboling  normalized-losses  make_n  fuel-type_n  aspiration_n  \\\n",
       "145  146          3              197.0      19            1             0   \n",
       "45    46          0               91.0      19            1             0   \n",
       "122  123          0              115.0       8            1             0   \n",
       "178  179          1              119.0      14            1             0   \n",
       "24    25          1              148.0       4            1             0   \n",
       "\n",
       "     num-of-doors_n  body-style_n  drive-wheels_n  engine-location_n  ...  \\\n",
       "145               1             2               2                  0  ...   \n",
       "45                0             2               1                  0  ...   \n",
       "122               0             3               1                  0  ...   \n",
       "178               1             2               1                  0  ...   \n",
       "24                0             3               1                  0  ...   \n",
       "\n",
       "     num-of-cylinders_n  engine-size  fuel-system_n  bore  stroke  \\\n",
       "145                   3          171              5  3.27    3.35   \n",
       "45                    2           98              1  3.19    3.03   \n",
       "122                   2          122              1  3.39    3.39   \n",
       "178                   2           90              1  2.97    3.23   \n",
       "24                    2           90              1  2.97    3.23   \n",
       "\n",
       "     compression-ratio  horsepower  peak-rpm  city-mpg  highway-mpg  \n",
       "145                9.3       161.0    5200.0        19           24  \n",
       "45                 9.0        70.0    4800.0        30           37  \n",
       "122                8.6        84.0    4800.0        26           32  \n",
       "178                9.4        68.0    5500.0        37           41  \n",
       "24                 9.4        68.0    5500.0        31           38  \n",
       "\n",
       "[5 rows x 26 columns]"
      ]
     },
     "execution_count": 39,
     "metadata": {},
     "output_type": "execute_result"
    }
   ],
   "source": [
    "X_train.head(5)"
   ]
  },
  {
   "cell_type": "code",
   "execution_count": 40,
   "metadata": {},
   "outputs": [
    {
     "data": {
      "text/plain": [
       "145    15998\n",
       "45      7198\n",
       "122    10245\n",
       "178     5572\n",
       "24      6692\n",
       "Name: price, dtype: int64"
      ]
     },
     "execution_count": 40,
     "metadata": {},
     "output_type": "execute_result"
    }
   ],
   "source": [
    "y_train.head(5)"
   ]
  },
  {
   "cell_type": "code",
   "execution_count": 41,
   "metadata": {},
   "outputs": [
    {
     "data": {
      "text/html": [
       "<div>\n",
       "<style scoped>\n",
       "    .dataframe tbody tr th:only-of-type {\n",
       "        vertical-align: middle;\n",
       "    }\n",
       "\n",
       "    .dataframe tbody tr th {\n",
       "        vertical-align: top;\n",
       "    }\n",
       "\n",
       "    .dataframe thead th {\n",
       "        text-align: right;\n",
       "    }\n",
       "</style>\n",
       "<table border=\"1\" class=\"dataframe\">\n",
       "  <thead>\n",
       "    <tr style=\"text-align: right;\">\n",
       "      <th></th>\n",
       "      <th>ID</th>\n",
       "      <th>symboling</th>\n",
       "      <th>normalized-losses</th>\n",
       "      <th>make_n</th>\n",
       "      <th>fuel-type_n</th>\n",
       "      <th>aspiration_n</th>\n",
       "      <th>num-of-doors_n</th>\n",
       "      <th>body-style_n</th>\n",
       "      <th>drive-wheels_n</th>\n",
       "      <th>engine-location_n</th>\n",
       "      <th>...</th>\n",
       "      <th>num-of-cylinders_n</th>\n",
       "      <th>engine-size</th>\n",
       "      <th>fuel-system_n</th>\n",
       "      <th>bore</th>\n",
       "      <th>stroke</th>\n",
       "      <th>compression-ratio</th>\n",
       "      <th>horsepower</th>\n",
       "      <th>peak-rpm</th>\n",
       "      <th>city-mpg</th>\n",
       "      <th>highway-mpg</th>\n",
       "    </tr>\n",
       "  </thead>\n",
       "  <tbody>\n",
       "    <tr>\n",
       "      <th>83</th>\n",
       "      <td>84</td>\n",
       "      <td>0</td>\n",
       "      <td>77.0</td>\n",
       "      <td>19</td>\n",
       "      <td>1</td>\n",
       "      <td>0</td>\n",
       "      <td>0</td>\n",
       "      <td>4</td>\n",
       "      <td>1</td>\n",
       "      <td>0</td>\n",
       "      <td>...</td>\n",
       "      <td>2</td>\n",
       "      <td>92</td>\n",
       "      <td>1</td>\n",
       "      <td>3.05</td>\n",
       "      <td>3.03</td>\n",
       "      <td>9.0</td>\n",
       "      <td>62.0</td>\n",
       "      <td>4800.0</td>\n",
       "      <td>31</td>\n",
       "      <td>37</td>\n",
       "    </tr>\n",
       "    <tr>\n",
       "      <th>7</th>\n",
       "      <td>8</td>\n",
       "      <td>3</td>\n",
       "      <td>115.0</td>\n",
       "      <td>15</td>\n",
       "      <td>1</td>\n",
       "      <td>0</td>\n",
       "      <td>1</td>\n",
       "      <td>1</td>\n",
       "      <td>2</td>\n",
       "      <td>1</td>\n",
       "      <td>...</td>\n",
       "      <td>3</td>\n",
       "      <td>194</td>\n",
       "      <td>5</td>\n",
       "      <td>3.74</td>\n",
       "      <td>2.90</td>\n",
       "      <td>9.5</td>\n",
       "      <td>207.0</td>\n",
       "      <td>5900.0</td>\n",
       "      <td>17</td>\n",
       "      <td>25</td>\n",
       "    </tr>\n",
       "    <tr>\n",
       "      <th>61</th>\n",
       "      <td>62</td>\n",
       "      <td>-1</td>\n",
       "      <td>65.0</td>\n",
       "      <td>19</td>\n",
       "      <td>0</td>\n",
       "      <td>1</td>\n",
       "      <td>0</td>\n",
       "      <td>3</td>\n",
       "      <td>1</td>\n",
       "      <td>0</td>\n",
       "      <td>...</td>\n",
       "      <td>2</td>\n",
       "      <td>110</td>\n",
       "      <td>3</td>\n",
       "      <td>3.27</td>\n",
       "      <td>3.35</td>\n",
       "      <td>22.5</td>\n",
       "      <td>73.0</td>\n",
       "      <td>4500.0</td>\n",
       "      <td>30</td>\n",
       "      <td>33</td>\n",
       "    </tr>\n",
       "    <tr>\n",
       "      <th>176</th>\n",
       "      <td>177</td>\n",
       "      <td>1</td>\n",
       "      <td>129.0</td>\n",
       "      <td>8</td>\n",
       "      <td>1</td>\n",
       "      <td>0</td>\n",
       "      <td>1</td>\n",
       "      <td>2</td>\n",
       "      <td>1</td>\n",
       "      <td>0</td>\n",
       "      <td>...</td>\n",
       "      <td>2</td>\n",
       "      <td>122</td>\n",
       "      <td>1</td>\n",
       "      <td>3.39</td>\n",
       "      <td>3.39</td>\n",
       "      <td>8.6</td>\n",
       "      <td>84.0</td>\n",
       "      <td>4800.0</td>\n",
       "      <td>26</td>\n",
       "      <td>32</td>\n",
       "    </tr>\n",
       "    <tr>\n",
       "      <th>137</th>\n",
       "      <td>138</td>\n",
       "      <td>2</td>\n",
       "      <td>115.0</td>\n",
       "      <td>16</td>\n",
       "      <td>1</td>\n",
       "      <td>0</td>\n",
       "      <td>1</td>\n",
       "      <td>2</td>\n",
       "      <td>1</td>\n",
       "      <td>0</td>\n",
       "      <td>...</td>\n",
       "      <td>2</td>\n",
       "      <td>132</td>\n",
       "      <td>5</td>\n",
       "      <td>3.46</td>\n",
       "      <td>3.90</td>\n",
       "      <td>8.7</td>\n",
       "      <td>95.0</td>\n",
       "      <td>5100.0</td>\n",
       "      <td>23</td>\n",
       "      <td>31</td>\n",
       "    </tr>\n",
       "  </tbody>\n",
       "</table>\n",
       "<p>5 rows × 26 columns</p>\n",
       "</div>"
      ],
      "text/plain": [
       "      ID  symboling  normalized-losses  make_n  fuel-type_n  aspiration_n  \\\n",
       "83    84          0               77.0      19            1             0   \n",
       "7      8          3              115.0      15            1             0   \n",
       "61    62         -1               65.0      19            0             1   \n",
       "176  177          1              129.0       8            1             0   \n",
       "137  138          2              115.0      16            1             0   \n",
       "\n",
       "     num-of-doors_n  body-style_n  drive-wheels_n  engine-location_n  ...  \\\n",
       "83                0             4               1                  0  ...   \n",
       "7                 1             1               2                  1  ...   \n",
       "61                0             3               1                  0  ...   \n",
       "176               1             2               1                  0  ...   \n",
       "137               1             2               1                  0  ...   \n",
       "\n",
       "     num-of-cylinders_n  engine-size  fuel-system_n  bore  stroke  \\\n",
       "83                    2           92              1  3.05    3.03   \n",
       "7                     3          194              5  3.74    2.90   \n",
       "61                    2          110              3  3.27    3.35   \n",
       "176                   2          122              1  3.39    3.39   \n",
       "137                   2          132              5  3.46    3.90   \n",
       "\n",
       "     compression-ratio  horsepower  peak-rpm  city-mpg  highway-mpg  \n",
       "83                 9.0        62.0    4800.0        31           37  \n",
       "7                  9.5       207.0    5900.0        17           25  \n",
       "61                22.5        73.0    4500.0        30           33  \n",
       "176                8.6        84.0    4800.0        26           32  \n",
       "137                8.7        95.0    5100.0        23           31  \n",
       "\n",
       "[5 rows x 26 columns]"
      ]
     },
     "execution_count": 41,
     "metadata": {},
     "output_type": "execute_result"
    }
   ],
   "source": [
    "X_test.head(5)"
   ]
  },
  {
   "cell_type": "code",
   "execution_count": 42,
   "metadata": {},
   "outputs": [
    {
     "data": {
      "text/plain": [
       "83      6918\n",
       "7      32528\n",
       "61     10698\n",
       "176    10595\n",
       "137     9895\n",
       "Name: price, dtype: int64"
      ]
     },
     "execution_count": 42,
     "metadata": {},
     "output_type": "execute_result"
    }
   ],
   "source": [
    "y_test.head(5)"
   ]
  },
  {
   "cell_type": "markdown",
   "metadata": {},
   "source": [
    "<a name = section703></a>\n",
    "### 7.3 Linear Regression"
   ]
  },
  {
   "cell_type": "markdown",
   "metadata": {},
   "source": [
    "**Here, we will use these 4 steps :** \n",
    "\n",
    " - (a) Load the algorithm \n",
    " - (b) Instantiate and Fit the model to the training dataset\n",
    " - (c) Prediction on the test set\n",
    " - (d) Evaluate - Calculate RMSE and R square"
   ]
  },
  {
   "cell_type": "markdown",
   "metadata": {},
   "source": [
    "## Importing the functions required for model evaluation"
   ]
  },
  {
   "cell_type": "code",
   "execution_count": 69,
   "metadata": {},
   "outputs": [],
   "source": [
    "from sklearn.linear_model import LinearRegression     # Instantiate the Linear regression model\n",
    "from sklearn import metrics                           # Importing the Evaluation metrics \n",
    "lr_model = LinearRegression(fit_intercept=True)       # fitting the model"
   ]
  },
  {
   "cell_type": "code",
   "execution_count": 74,
   "metadata": {},
   "outputs": [
    {
     "data": {
      "text/plain": [
       "LinearRegression()"
      ]
     },
     "execution_count": 74,
     "metadata": {},
     "output_type": "execute_result"
    }
   ],
   "source": [
    "lr_model.fit(X_train, y_train)                        # Training the modelusing X_train and y_train"
   ]
  },
  {
   "cell_type": "code",
   "execution_count": 75,
   "metadata": {},
   "outputs": [],
   "source": [
    "y_pred_train = lr_model.predict(X_train)              # Making prediction using training model for both train and test set\n",
    "y_pred_test = lr_model.predict(X_test) "
   ]
  },
  {
   "cell_type": "markdown",
   "metadata": {},
   "source": [
    "## R.M.S.E. score (with train and test set)"
   ]
  },
  {
   "cell_type": "code",
   "execution_count": 76,
   "metadata": {},
   "outputs": [],
   "source": [
    "RMSE_train = np.sqrt(metrics.mean_squared_error(y_train, y_pred_train))\n",
    "RMSE_test = np.sqrt(metrics.mean_squared_error(y_test, y_pred_test))"
   ]
  },
  {
   "cell_type": "code",
   "execution_count": 77,
   "metadata": {},
   "outputs": [
    {
     "name": "stdout",
     "output_type": "stream",
     "text": [
      "RMSE for training set is 2622.225278357545\n",
      "RMSE for test set is 2756.069994270562\n"
     ]
    }
   ],
   "source": [
    "print('RMSE for training set is {}'.format(RMSE_train))\n",
    "print('RMSE for test set is {}'.format(RMSE_test))"
   ]
  },
  {
   "cell_type": "markdown",
   "metadata": {},
   "source": [
    "<a name = section8></a>\n",
    "## 8. Analysis of Test dataset"
   ]
  },
  {
   "cell_type": "code",
   "execution_count": 51,
   "metadata": {},
   "outputs": [
    {
     "name": "stdout",
     "output_type": "stream",
     "text": [
      "Data Shape of Testing Data:  (20, 26)\n"
     ]
    },
    {
     "data": {
      "text/html": [
       "<div>\n",
       "<style scoped>\n",
       "    .dataframe tbody tr th:only-of-type {\n",
       "        vertical-align: middle;\n",
       "    }\n",
       "\n",
       "    .dataframe tbody tr th {\n",
       "        vertical-align: top;\n",
       "    }\n",
       "\n",
       "    .dataframe thead th {\n",
       "        text-align: right;\n",
       "    }\n",
       "</style>\n",
       "<table border=\"1\" class=\"dataframe\">\n",
       "  <thead>\n",
       "    <tr style=\"text-align: right;\">\n",
       "      <th></th>\n",
       "      <th>ID</th>\n",
       "      <th>symboling</th>\n",
       "      <th>normalized-losses</th>\n",
       "      <th>make</th>\n",
       "      <th>fuel-type</th>\n",
       "      <th>aspiration</th>\n",
       "      <th>num-of-doors</th>\n",
       "      <th>body-style</th>\n",
       "      <th>drive-wheels</th>\n",
       "      <th>engine-location</th>\n",
       "      <th>...</th>\n",
       "      <th>num-of-cylinders</th>\n",
       "      <th>engine-size</th>\n",
       "      <th>fuel-system</th>\n",
       "      <th>bore</th>\n",
       "      <th>stroke</th>\n",
       "      <th>compression-ratio</th>\n",
       "      <th>horsepower</th>\n",
       "      <th>peak-rpm</th>\n",
       "      <th>city-mpg</th>\n",
       "      <th>highway-mpg</th>\n",
       "    </tr>\n",
       "  </thead>\n",
       "  <tbody>\n",
       "    <tr>\n",
       "      <th>0</th>\n",
       "      <td>1</td>\n",
       "      <td>-2</td>\n",
       "      <td>103.0</td>\n",
       "      <td>volvo</td>\n",
       "      <td>gas</td>\n",
       "      <td>std</td>\n",
       "      <td>four</td>\n",
       "      <td>sedan</td>\n",
       "      <td>rwd</td>\n",
       "      <td>front</td>\n",
       "      <td>...</td>\n",
       "      <td>four</td>\n",
       "      <td>141</td>\n",
       "      <td>mpfi</td>\n",
       "      <td>3.78</td>\n",
       "      <td>3.15</td>\n",
       "      <td>9.5</td>\n",
       "      <td>114</td>\n",
       "      <td>5400</td>\n",
       "      <td>23</td>\n",
       "      <td>28</td>\n",
       "    </tr>\n",
       "    <tr>\n",
       "      <th>1</th>\n",
       "      <td>2</td>\n",
       "      <td>0</td>\n",
       "      <td>188.0</td>\n",
       "      <td>bmw</td>\n",
       "      <td>gas</td>\n",
       "      <td>std</td>\n",
       "      <td>four</td>\n",
       "      <td>sedan</td>\n",
       "      <td>rwd</td>\n",
       "      <td>front</td>\n",
       "      <td>...</td>\n",
       "      <td>six</td>\n",
       "      <td>164</td>\n",
       "      <td>mpfi</td>\n",
       "      <td>3.31</td>\n",
       "      <td>3.19</td>\n",
       "      <td>9.0</td>\n",
       "      <td>121</td>\n",
       "      <td>4250</td>\n",
       "      <td>21</td>\n",
       "      <td>28</td>\n",
       "    </tr>\n",
       "    <tr>\n",
       "      <th>2</th>\n",
       "      <td>3</td>\n",
       "      <td>-1</td>\n",
       "      <td>74.0</td>\n",
       "      <td>volvo</td>\n",
       "      <td>gas</td>\n",
       "      <td>turbo</td>\n",
       "      <td>four</td>\n",
       "      <td>wagon</td>\n",
       "      <td>rwd</td>\n",
       "      <td>front</td>\n",
       "      <td>...</td>\n",
       "      <td>four</td>\n",
       "      <td>130</td>\n",
       "      <td>mpfi</td>\n",
       "      <td>3.62</td>\n",
       "      <td>3.15</td>\n",
       "      <td>7.5</td>\n",
       "      <td>162</td>\n",
       "      <td>5100</td>\n",
       "      <td>17</td>\n",
       "      <td>22</td>\n",
       "    </tr>\n",
       "    <tr>\n",
       "      <th>3</th>\n",
       "      <td>4</td>\n",
       "      <td>1</td>\n",
       "      <td>154.0</td>\n",
       "      <td>plymouth</td>\n",
       "      <td>gas</td>\n",
       "      <td>std</td>\n",
       "      <td>four</td>\n",
       "      <td>sedan</td>\n",
       "      <td>fwd</td>\n",
       "      <td>front</td>\n",
       "      <td>...</td>\n",
       "      <td>four</td>\n",
       "      <td>90</td>\n",
       "      <td>2bbl</td>\n",
       "      <td>2.97</td>\n",
       "      <td>3.23</td>\n",
       "      <td>9.4</td>\n",
       "      <td>68</td>\n",
       "      <td>5500</td>\n",
       "      <td>31</td>\n",
       "      <td>38</td>\n",
       "    </tr>\n",
       "    <tr>\n",
       "      <th>4</th>\n",
       "      <td>5</td>\n",
       "      <td>1</td>\n",
       "      <td>103.0</td>\n",
       "      <td>nissan</td>\n",
       "      <td>gas</td>\n",
       "      <td>std</td>\n",
       "      <td>four</td>\n",
       "      <td>wagon</td>\n",
       "      <td>fwd</td>\n",
       "      <td>front</td>\n",
       "      <td>...</td>\n",
       "      <td>four</td>\n",
       "      <td>97</td>\n",
       "      <td>2bbl</td>\n",
       "      <td>3.15</td>\n",
       "      <td>3.29</td>\n",
       "      <td>9.4</td>\n",
       "      <td>69</td>\n",
       "      <td>5200</td>\n",
       "      <td>31</td>\n",
       "      <td>37</td>\n",
       "    </tr>\n",
       "  </tbody>\n",
       "</table>\n",
       "<p>5 rows × 26 columns</p>\n",
       "</div>"
      ],
      "text/plain": [
       "   ID  symboling  normalized-losses      make fuel-type aspiration  \\\n",
       "0   1         -2              103.0     volvo       gas        std   \n",
       "1   2          0              188.0       bmw       gas        std   \n",
       "2   3         -1               74.0     volvo       gas      turbo   \n",
       "3   4          1              154.0  plymouth       gas        std   \n",
       "4   5          1              103.0    nissan       gas        std   \n",
       "\n",
       "  num-of-doors body-style drive-wheels engine-location  ...  num-of-cylinders  \\\n",
       "0         four      sedan          rwd           front  ...              four   \n",
       "1         four      sedan          rwd           front  ...               six   \n",
       "2         four      wagon          rwd           front  ...              four   \n",
       "3         four      sedan          fwd           front  ...              four   \n",
       "4         four      wagon          fwd           front  ...              four   \n",
       "\n",
       "   engine-size  fuel-system  bore  stroke compression-ratio horsepower  \\\n",
       "0          141         mpfi  3.78    3.15               9.5        114   \n",
       "1          164         mpfi  3.31    3.19               9.0        121   \n",
       "2          130         mpfi  3.62    3.15               7.5        162   \n",
       "3           90         2bbl  2.97    3.23               9.4         68   \n",
       "4           97         2bbl  3.15    3.29               9.4         69   \n",
       "\n",
       "   peak-rpm city-mpg  highway-mpg  \n",
       "0      5400       23           28  \n",
       "1      4250       21           28  \n",
       "2      5100       17           22  \n",
       "3      5500       31           38  \n",
       "4      5200       31           37  \n",
       "\n",
       "[5 rows x 26 columns]"
      ]
     },
     "execution_count": 51,
     "metadata": {},
     "output_type": "execute_result"
    }
   ],
   "source": [
    "# Loading the Test dataset #\n",
    "missing_value = ['n.a','?','na','NA']                    # Data file contains values with '?' sign\n",
    "test_data = pd.read_csv(r'E:\\INSAID Projects\\used car prediction_ML1\\TestData.csv', na_values = missing_value)\n",
    "print('Data Shape of Testing Data: ', test_data.shape)\n",
    "test_data.head()"
   ]
  },
  {
   "cell_type": "markdown",
   "metadata": {},
   "source": [
    "<a name = section801></a>\n",
    "### 8.1 Handling missing values in Test dataset"
   ]
  },
  {
   "cell_type": "code",
   "execution_count": 52,
   "metadata": {},
   "outputs": [],
   "source": [
    "test_data['normalized-losses'].median()\n",
    "test_data['normalized-losses'].fillna(value = 128.0, inplace = True)"
   ]
  },
  {
   "cell_type": "code",
   "execution_count": 53,
   "metadata": {},
   "outputs": [
    {
     "data": {
      "text/plain": [
       "ID                   0\n",
       "symboling            0\n",
       "normalized-losses    0\n",
       "make                 0\n",
       "fuel-type            0\n",
       "aspiration           0\n",
       "num-of-doors         0\n",
       "body-style           0\n",
       "drive-wheels         0\n",
       "engine-location      0\n",
       "wheel-base           0\n",
       "length               0\n",
       "width                0\n",
       "height               0\n",
       "curb-weight          0\n",
       "engine-type          0\n",
       "num-of-cylinders     0\n",
       "engine-size          0\n",
       "fuel-system          0\n",
       "bore                 0\n",
       "stroke               0\n",
       "compression-ratio    0\n",
       "horsepower           0\n",
       "peak-rpm             0\n",
       "city-mpg             0\n",
       "highway-mpg          0\n",
       "dtype: int64"
      ]
     },
     "execution_count": 53,
     "metadata": {},
     "output_type": "execute_result"
    }
   ],
   "source": [
    "test_data.isnull().sum()"
   ]
  },
  {
   "cell_type": "code",
   "execution_count": 54,
   "metadata": {},
   "outputs": [],
   "source": [
    "test_data1 = test_data.copy()"
   ]
  },
  {
   "cell_type": "code",
   "execution_count": 55,
   "metadata": {},
   "outputs": [
    {
     "name": "stdout",
     "output_type": "stream",
     "text": [
      "<class 'pandas.core.frame.DataFrame'>\n",
      "RangeIndex: 20 entries, 0 to 19\n",
      "Data columns (total 26 columns):\n",
      " #   Column             Non-Null Count  Dtype  \n",
      "---  ------             --------------  -----  \n",
      " 0   ID                 20 non-null     int64  \n",
      " 1   symboling          20 non-null     int64  \n",
      " 2   normalized-losses  20 non-null     float64\n",
      " 3   make               20 non-null     object \n",
      " 4   fuel-type          20 non-null     object \n",
      " 5   aspiration         20 non-null     object \n",
      " 6   num-of-doors       20 non-null     object \n",
      " 7   body-style         20 non-null     object \n",
      " 8   drive-wheels       20 non-null     object \n",
      " 9   engine-location    20 non-null     object \n",
      " 10  wheel-base         20 non-null     float64\n",
      " 11  length             20 non-null     float64\n",
      " 12  width              20 non-null     float64\n",
      " 13  height             20 non-null     float64\n",
      " 14  curb-weight        20 non-null     int64  \n",
      " 15  engine-type        20 non-null     object \n",
      " 16  num-of-cylinders   20 non-null     object \n",
      " 17  engine-size        20 non-null     int64  \n",
      " 18  fuel-system        20 non-null     object \n",
      " 19  bore               20 non-null     float64\n",
      " 20  stroke             20 non-null     float64\n",
      " 21  compression-ratio  20 non-null     float64\n",
      " 22  horsepower         20 non-null     int64  \n",
      " 23  peak-rpm           20 non-null     int64  \n",
      " 24  city-mpg           20 non-null     int64  \n",
      " 25  highway-mpg        20 non-null     int64  \n",
      "dtypes: float64(8), int64(8), object(10)\n",
      "memory usage: 4.2+ KB\n"
     ]
    }
   ],
   "source": [
    "test_data1.info()"
   ]
  },
  {
   "cell_type": "markdown",
   "metadata": {},
   "source": [
    "<a name = section802></a>\n",
    "### 8.2 Label Encoding for Categorical columns (Test dataset)"
   ]
  },
  {
   "cell_type": "code",
   "execution_count": 56,
   "metadata": {},
   "outputs": [],
   "source": [
    "le_make=LabelEncoder()\n",
    "le_fuel_type=LabelEncoder()\n",
    "le_aspiration=LabelEncoder()\n",
    "le_num_of_doors=LabelEncoder()\n",
    "le_body_style=LabelEncoder()\n",
    "le_drive_wheels=LabelEncoder()\n",
    "le_engine_location=LabelEncoder()\n",
    "le_engine_type=LabelEncoder()\n",
    "le_num_of_cylinders=LabelEncoder()\n",
    "le_fuel_system=LabelEncoder()\n",
    "\n",
    "# Assigning numerical value and storing it in another column \n",
    "test_data1['make_n']= le_make.fit_transform(test_data1['make'])\n",
    "test_data1['fuel-type_n']= le_fuel_type.fit_transform(test_data1['fuel-type'])\n",
    "test_data1['aspiration_n']= le_aspiration.fit_transform(test_data1['aspiration'])\n",
    "test_data1['num-of-doors_n']= le_num_of_doors.fit_transform(test_data1['num-of-doors'])\n",
    "test_data1['body-style_n']= le_body_style.fit_transform(test_data1['body-style'])\n",
    "test_data1['drive-wheels_n']= le_drive_wheels.fit_transform(test_data1['drive-wheels'])\n",
    "test_data1['engine-location_n']= le_engine_location.fit_transform(test_data1['engine-location'])\n",
    "test_data1['engine-type_n']= le_engine_type.fit_transform(test_data1['engine-type'])\n",
    "test_data1['num-of-cylinders_n']= le_num_of_cylinders.fit_transform(test_data1['num-of-cylinders'])\n",
    "test_data1['fuel-system_n']= le_fuel_system.fit_transform(test_data1['fuel-system'])"
   ]
  },
  {
   "cell_type": "code",
   "execution_count": 57,
   "metadata": {},
   "outputs": [],
   "source": [
    "test_data1 = test_data1.drop(['make', 'fuel-type', 'aspiration', 'num-of-doors', 'body-style', 'drive-wheels', 'engine-location', 'engine-type', 'num-of-cylinders', 'fuel-system'], axis = 1) "
   ]
  },
  {
   "cell_type": "code",
   "execution_count": 58,
   "metadata": {},
   "outputs": [
    {
     "data": {
      "text/plain": [
       "Index(['ID', 'symboling', 'normalized-losses', 'wheel-base', 'length', 'width',\n",
       "       'height', 'curb-weight', 'engine-size', 'bore', 'stroke',\n",
       "       'compression-ratio', 'horsepower', 'peak-rpm', 'city-mpg',\n",
       "       'highway-mpg', 'make_n', 'fuel-type_n', 'aspiration_n',\n",
       "       'num-of-doors_n', 'body-style_n', 'drive-wheels_n', 'engine-location_n',\n",
       "       'engine-type_n', 'num-of-cylinders_n', 'fuel-system_n'],\n",
       "      dtype='object')"
      ]
     },
     "execution_count": 58,
     "metadata": {},
     "output_type": "execute_result"
    }
   ],
   "source": [
    "test_data1.columns"
   ]
  },
  {
   "cell_type": "code",
   "execution_count": 59,
   "metadata": {},
   "outputs": [],
   "source": [
    "# Re-arranging the test dataset as per our need\n",
    "test_data1 = test_data1[['ID', 'symboling', 'normalized-losses', 'make_n', 'fuel-type_n',\n",
    "       'aspiration_n', 'num-of-doors_n', 'body-style_n', 'drive-wheels_n',\n",
    "       'engine-location_n', 'wheel-base', 'length', 'width', 'height',\n",
    "       'curb-weight', 'engine-type_n', 'num-of-cylinders_n', 'engine-size',\n",
    "       'fuel-system_n', 'bore', 'stroke', 'compression-ratio', 'horsepower',\n",
    "       'peak-rpm', 'city-mpg', 'highway-mpg' ]]"
   ]
  },
  {
   "cell_type": "markdown",
   "metadata": {},
   "source": [
    "<a name = section803></a>\n",
    "### 8.3 Prediction of  Used Car Price "
   ]
  },
  {
   "cell_type": "code",
   "execution_count": 78,
   "metadata": {},
   "outputs": [],
   "source": [
    "y_pred_test_final = lr_model.predict(test_data1) "
   ]
  },
  {
   "cell_type": "code",
   "execution_count": 79,
   "metadata": {},
   "outputs": [
    {
     "data": {
      "text/plain": [
       "array([19071.62628414, 18883.07051221, 21186.19136056,  7060.67567883,\n",
       "        7756.75648563, 11426.17180905, 19506.78420049, 19155.2581288 ,\n",
       "       10651.48737821,  9308.73193973, 22432.8619594 ,  8028.34119498,\n",
       "        9592.30485632,  9340.70662137, 17295.17697922, 28495.67553721,\n",
       "       11945.01381323, 23781.05274537, 15547.60641465,  8404.48205636])"
      ]
     },
     "execution_count": 79,
     "metadata": {},
     "output_type": "execute_result"
    }
   ],
   "source": [
    "y_pred_test_final"
   ]
  },
  {
   "cell_type": "markdown",
   "metadata": {},
   "source": [
    "### Convert the array into DataFrame"
   ]
  },
  {
   "cell_type": "code",
   "execution_count": 80,
   "metadata": {},
   "outputs": [],
   "source": [
    "y_pred_test_final = pd.DataFrame(y_pred_test_final)"
   ]
  },
  {
   "cell_type": "code",
   "execution_count": 81,
   "metadata": {},
   "outputs": [
    {
     "data": {
      "text/html": [
       "<div>\n",
       "<style scoped>\n",
       "    .dataframe tbody tr th:only-of-type {\n",
       "        vertical-align: middle;\n",
       "    }\n",
       "\n",
       "    .dataframe tbody tr th {\n",
       "        vertical-align: top;\n",
       "    }\n",
       "\n",
       "    .dataframe thead th {\n",
       "        text-align: right;\n",
       "    }\n",
       "</style>\n",
       "<table border=\"1\" class=\"dataframe\">\n",
       "  <thead>\n",
       "    <tr style=\"text-align: right;\">\n",
       "      <th></th>\n",
       "      <th>0</th>\n",
       "    </tr>\n",
       "  </thead>\n",
       "  <tbody>\n",
       "    <tr>\n",
       "      <th>0</th>\n",
       "      <td>19071.626284</td>\n",
       "    </tr>\n",
       "    <tr>\n",
       "      <th>1</th>\n",
       "      <td>18883.070512</td>\n",
       "    </tr>\n",
       "    <tr>\n",
       "      <th>2</th>\n",
       "      <td>21186.191361</td>\n",
       "    </tr>\n",
       "    <tr>\n",
       "      <th>3</th>\n",
       "      <td>7060.675679</td>\n",
       "    </tr>\n",
       "    <tr>\n",
       "      <th>4</th>\n",
       "      <td>7756.756486</td>\n",
       "    </tr>\n",
       "    <tr>\n",
       "      <th>5</th>\n",
       "      <td>11426.171809</td>\n",
       "    </tr>\n",
       "    <tr>\n",
       "      <th>6</th>\n",
       "      <td>19506.784200</td>\n",
       "    </tr>\n",
       "    <tr>\n",
       "      <th>7</th>\n",
       "      <td>19155.258129</td>\n",
       "    </tr>\n",
       "    <tr>\n",
       "      <th>8</th>\n",
       "      <td>10651.487378</td>\n",
       "    </tr>\n",
       "    <tr>\n",
       "      <th>9</th>\n",
       "      <td>9308.731940</td>\n",
       "    </tr>\n",
       "    <tr>\n",
       "      <th>10</th>\n",
       "      <td>22432.861959</td>\n",
       "    </tr>\n",
       "    <tr>\n",
       "      <th>11</th>\n",
       "      <td>8028.341195</td>\n",
       "    </tr>\n",
       "    <tr>\n",
       "      <th>12</th>\n",
       "      <td>9592.304856</td>\n",
       "    </tr>\n",
       "    <tr>\n",
       "      <th>13</th>\n",
       "      <td>9340.706621</td>\n",
       "    </tr>\n",
       "    <tr>\n",
       "      <th>14</th>\n",
       "      <td>17295.176979</td>\n",
       "    </tr>\n",
       "    <tr>\n",
       "      <th>15</th>\n",
       "      <td>28495.675537</td>\n",
       "    </tr>\n",
       "    <tr>\n",
       "      <th>16</th>\n",
       "      <td>11945.013813</td>\n",
       "    </tr>\n",
       "    <tr>\n",
       "      <th>17</th>\n",
       "      <td>23781.052745</td>\n",
       "    </tr>\n",
       "    <tr>\n",
       "      <th>18</th>\n",
       "      <td>15547.606415</td>\n",
       "    </tr>\n",
       "    <tr>\n",
       "      <th>19</th>\n",
       "      <td>8404.482056</td>\n",
       "    </tr>\n",
       "  </tbody>\n",
       "</table>\n",
       "</div>"
      ],
      "text/plain": [
       "               0\n",
       "0   19071.626284\n",
       "1   18883.070512\n",
       "2   21186.191361\n",
       "3    7060.675679\n",
       "4    7756.756486\n",
       "5   11426.171809\n",
       "6   19506.784200\n",
       "7   19155.258129\n",
       "8   10651.487378\n",
       "9    9308.731940\n",
       "10  22432.861959\n",
       "11   8028.341195\n",
       "12   9592.304856\n",
       "13   9340.706621\n",
       "14  17295.176979\n",
       "15  28495.675537\n",
       "16  11945.013813\n",
       "17  23781.052745\n",
       "18  15547.606415\n",
       "19   8404.482056"
      ]
     },
     "execution_count": 81,
     "metadata": {},
     "output_type": "execute_result"
    }
   ],
   "source": [
    "y_pred_test_final"
   ]
  },
  {
   "cell_type": "code",
   "execution_count": 82,
   "metadata": {},
   "outputs": [],
   "source": [
    "data_submission = test_data1['ID']"
   ]
  },
  {
   "cell_type": "markdown",
   "metadata": {},
   "source": [
    "<a name = section804></a>\n",
    "### 8.4 Preparing Submission File"
   ]
  },
  {
   "cell_type": "code",
   "execution_count": 83,
   "metadata": {},
   "outputs": [],
   "source": [
    "submission_file = pd.concat([data_submission,y_pred_test_final], axis = 1)"
   ]
  },
  {
   "cell_type": "code",
   "execution_count": 84,
   "metadata": {},
   "outputs": [
    {
     "data": {
      "text/html": [
       "<div>\n",
       "<style scoped>\n",
       "    .dataframe tbody tr th:only-of-type {\n",
       "        vertical-align: middle;\n",
       "    }\n",
       "\n",
       "    .dataframe tbody tr th {\n",
       "        vertical-align: top;\n",
       "    }\n",
       "\n",
       "    .dataframe thead th {\n",
       "        text-align: right;\n",
       "    }\n",
       "</style>\n",
       "<table border=\"1\" class=\"dataframe\">\n",
       "  <thead>\n",
       "    <tr style=\"text-align: right;\">\n",
       "      <th></th>\n",
       "      <th>ID</th>\n",
       "      <th>0</th>\n",
       "    </tr>\n",
       "  </thead>\n",
       "  <tbody>\n",
       "    <tr>\n",
       "      <th>0</th>\n",
       "      <td>1</td>\n",
       "      <td>19071.626284</td>\n",
       "    </tr>\n",
       "    <tr>\n",
       "      <th>1</th>\n",
       "      <td>2</td>\n",
       "      <td>18883.070512</td>\n",
       "    </tr>\n",
       "    <tr>\n",
       "      <th>2</th>\n",
       "      <td>3</td>\n",
       "      <td>21186.191361</td>\n",
       "    </tr>\n",
       "    <tr>\n",
       "      <th>3</th>\n",
       "      <td>4</td>\n",
       "      <td>7060.675679</td>\n",
       "    </tr>\n",
       "    <tr>\n",
       "      <th>4</th>\n",
       "      <td>5</td>\n",
       "      <td>7756.756486</td>\n",
       "    </tr>\n",
       "    <tr>\n",
       "      <th>5</th>\n",
       "      <td>6</td>\n",
       "      <td>11426.171809</td>\n",
       "    </tr>\n",
       "    <tr>\n",
       "      <th>6</th>\n",
       "      <td>7</td>\n",
       "      <td>19506.784200</td>\n",
       "    </tr>\n",
       "    <tr>\n",
       "      <th>7</th>\n",
       "      <td>8</td>\n",
       "      <td>19155.258129</td>\n",
       "    </tr>\n",
       "    <tr>\n",
       "      <th>8</th>\n",
       "      <td>9</td>\n",
       "      <td>10651.487378</td>\n",
       "    </tr>\n",
       "    <tr>\n",
       "      <th>9</th>\n",
       "      <td>10</td>\n",
       "      <td>9308.731940</td>\n",
       "    </tr>\n",
       "    <tr>\n",
       "      <th>10</th>\n",
       "      <td>11</td>\n",
       "      <td>22432.861959</td>\n",
       "    </tr>\n",
       "    <tr>\n",
       "      <th>11</th>\n",
       "      <td>12</td>\n",
       "      <td>8028.341195</td>\n",
       "    </tr>\n",
       "    <tr>\n",
       "      <th>12</th>\n",
       "      <td>13</td>\n",
       "      <td>9592.304856</td>\n",
       "    </tr>\n",
       "    <tr>\n",
       "      <th>13</th>\n",
       "      <td>14</td>\n",
       "      <td>9340.706621</td>\n",
       "    </tr>\n",
       "    <tr>\n",
       "      <th>14</th>\n",
       "      <td>15</td>\n",
       "      <td>17295.176979</td>\n",
       "    </tr>\n",
       "    <tr>\n",
       "      <th>15</th>\n",
       "      <td>16</td>\n",
       "      <td>28495.675537</td>\n",
       "    </tr>\n",
       "    <tr>\n",
       "      <th>16</th>\n",
       "      <td>17</td>\n",
       "      <td>11945.013813</td>\n",
       "    </tr>\n",
       "    <tr>\n",
       "      <th>17</th>\n",
       "      <td>18</td>\n",
       "      <td>23781.052745</td>\n",
       "    </tr>\n",
       "    <tr>\n",
       "      <th>18</th>\n",
       "      <td>19</td>\n",
       "      <td>15547.606415</td>\n",
       "    </tr>\n",
       "    <tr>\n",
       "      <th>19</th>\n",
       "      <td>20</td>\n",
       "      <td>8404.482056</td>\n",
       "    </tr>\n",
       "  </tbody>\n",
       "</table>\n",
       "</div>"
      ],
      "text/plain": [
       "    ID             0\n",
       "0    1  19071.626284\n",
       "1    2  18883.070512\n",
       "2    3  21186.191361\n",
       "3    4   7060.675679\n",
       "4    5   7756.756486\n",
       "5    6  11426.171809\n",
       "6    7  19506.784200\n",
       "7    8  19155.258129\n",
       "8    9  10651.487378\n",
       "9   10   9308.731940\n",
       "10  11  22432.861959\n",
       "11  12   8028.341195\n",
       "12  13   9592.304856\n",
       "13  14   9340.706621\n",
       "14  15  17295.176979\n",
       "15  16  28495.675537\n",
       "16  17  11945.013813\n",
       "17  18  23781.052745\n",
       "18  19  15547.606415\n",
       "19  20   8404.482056"
      ]
     },
     "execution_count": 84,
     "metadata": {},
     "output_type": "execute_result"
    }
   ],
   "source": [
    "submission_file"
   ]
  },
  {
   "cell_type": "markdown",
   "metadata": {},
   "source": [
    "<a name = section805></a>\n",
    "### 8.5 Saving price values to Excel sheet"
   ]
  },
  {
   "cell_type": "code",
   "execution_count": 86,
   "metadata": {},
   "outputs": [],
   "source": [
    "submission_file.to_csv('E://usedcar_price_predict_submission.csv', header=False, index=False)"
   ]
  }
 ],
 "metadata": {
  "kernelspec": {
   "display_name": "Python 3",
   "language": "python",
   "name": "python3"
  },
  "language_info": {
   "codemirror_mode": {
    "name": "ipython",
    "version": 3
   },
   "file_extension": ".py",
   "mimetype": "text/x-python",
   "name": "python",
   "nbconvert_exporter": "python",
   "pygments_lexer": "ipython3",
   "version": "3.8.5"
  }
 },
 "nbformat": 4,
 "nbformat_minor": 4
}
